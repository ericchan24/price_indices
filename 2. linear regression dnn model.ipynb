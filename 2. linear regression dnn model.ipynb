{
 "cells": [
  {
   "cell_type": "markdown",
   "metadata": {},
   "source": [
    "In this notebook, we will build two linear regression models using Tensorflow.  \n",
    "1. Use all the features to predict Price_Index\n",
    "2. Use a subset of features to predict Price_Index  \n",
    "\n",
    "https://www.tensorflow.org/tutorials/keras/regression"
   ]
  },
  {
   "cell_type": "code",
   "execution_count": 1,
   "metadata": {},
   "outputs": [
    {
     "name": "stdout",
     "output_type": "stream",
     "text": [
      "2.6.2\n"
     ]
    }
   ],
   "source": [
    "import matplotlib.pyplot as plt\n",
    "import numpy as np\n",
    "import pandas as pd\n",
    "import tensorflow as tf\n",
    "\n",
    "from tensorflow import keras\n",
    "from tensorflow.keras import layers\n",
    "\n",
    "# #https://stackoverflow.com/questions/69136518/tensorflow-2-getting-warningtensorflowx-out-of-the-last-x-calls-to-function\n",
    "# tf.compat.v1.disable_eager_execution()\n",
    "\n",
    "print(tf.__version__)"
   ]
  },
  {
   "cell_type": "code",
   "execution_count": 2,
   "metadata": {},
   "outputs": [],
   "source": [
    "df = pd.read_csv('price_indicies.csv')"
   ]
  },
  {
   "cell_type": "code",
   "execution_count": 3,
   "metadata": {},
   "outputs": [
    {
     "data": {
      "text/html": [
       "<div>\n",
       "<style scoped>\n",
       "    .dataframe tbody tr th:only-of-type {\n",
       "        vertical-align: middle;\n",
       "    }\n",
       "\n",
       "    .dataframe tbody tr th {\n",
       "        vertical-align: top;\n",
       "    }\n",
       "\n",
       "    .dataframe thead th {\n",
       "        text-align: right;\n",
       "    }\n",
       "</style>\n",
       "<table border=\"1\" class=\"dataframe\">\n",
       "  <thead>\n",
       "    <tr style=\"text-align: right;\">\n",
       "      <th></th>\n",
       "      <th>City</th>\n",
       "      <th>Price_Index</th>\n",
       "      <th>Monthly rent for 85 m2 (900 sqft) furnished accommodation in expensive area</th>\n",
       "    </tr>\n",
       "  </thead>\n",
       "  <tbody>\n",
       "    <tr>\n",
       "      <th>2</th>\n",
       "      <td>San Francisco, California, United States</td>\n",
       "      <td>239</td>\n",
       "      <td>6144.0</td>\n",
       "    </tr>\n",
       "    <tr>\n",
       "      <th>6</th>\n",
       "      <td>Hong Kong</td>\n",
       "      <td>233</td>\n",
       "      <td>5869.0</td>\n",
       "    </tr>\n",
       "    <tr>\n",
       "      <th>3</th>\n",
       "      <td>New York City, United States</td>\n",
       "      <td>238</td>\n",
       "      <td>4503.0</td>\n",
       "    </tr>\n",
       "    <tr>\n",
       "      <th>1</th>\n",
       "      <td>Grand Cayman, Cayman Islands</td>\n",
       "      <td>253</td>\n",
       "      <td>4435.0</td>\n",
       "    </tr>\n",
       "    <tr>\n",
       "      <th>5</th>\n",
       "      <td>Geneva, Switzerland</td>\n",
       "      <td>237</td>\n",
       "      <td>3771.0</td>\n",
       "    </tr>\n",
       "    <tr>\n",
       "      <th>...</th>\n",
       "      <td>...</td>\n",
       "      <td>...</td>\n",
       "      <td>...</td>\n",
       "    </tr>\n",
       "    <tr>\n",
       "      <th>156</th>\n",
       "      <td>Bucaramanga, Colombia</td>\n",
       "      <td>55</td>\n",
       "      <td>422.0</td>\n",
       "    </tr>\n",
       "    <tr>\n",
       "      <th>155</th>\n",
       "      <td>Arequipa, Peru</td>\n",
       "      <td>56</td>\n",
       "      <td>418.0</td>\n",
       "    </tr>\n",
       "    <tr>\n",
       "      <th>158</th>\n",
       "      <td>Istanbul, Turkey</td>\n",
       "      <td>45</td>\n",
       "      <td>396.0</td>\n",
       "    </tr>\n",
       "    <tr>\n",
       "      <th>159</th>\n",
       "      <td>Ankara, Turkey</td>\n",
       "      <td>40</td>\n",
       "      <td>275.0</td>\n",
       "    </tr>\n",
       "    <tr>\n",
       "      <th>160</th>\n",
       "      <td>İzmir, Turkey</td>\n",
       "      <td>39</td>\n",
       "      <td>238.0</td>\n",
       "    </tr>\n",
       "  </tbody>\n",
       "</table>\n",
       "<p>161 rows × 3 columns</p>\n",
       "</div>"
      ],
      "text/plain": [
       "                                         City  Price_Index  \\\n",
       "2    San Francisco, California, United States          239   \n",
       "6                                   Hong Kong          233   \n",
       "3                New York City, United States          238   \n",
       "1                Grand Cayman, Cayman Islands          253   \n",
       "5                         Geneva, Switzerland          237   \n",
       "..                                        ...          ...   \n",
       "156                     Bucaramanga, Colombia           55   \n",
       "155                            Arequipa, Peru           56   \n",
       "158                          Istanbul, Turkey           45   \n",
       "159                            Ankara, Turkey           40   \n",
       "160                             İzmir, Turkey           39   \n",
       "\n",
       "     Monthly rent for 85 m2 (900 sqft) furnished accommodation in expensive area  \n",
       "2                                               6144.0                            \n",
       "6                                               5869.0                            \n",
       "3                                               4503.0                            \n",
       "1                                               4435.0                            \n",
       "5                                               3771.0                            \n",
       "..                                                 ...                            \n",
       "156                                              422.0                            \n",
       "155                                              418.0                            \n",
       "158                                              396.0                            \n",
       "159                                              275.0                            \n",
       "160                                              238.0                            \n",
       "\n",
       "[161 rows x 3 columns]"
      ]
     },
     "execution_count": 3,
     "metadata": {},
     "output_type": "execute_result"
    }
   ],
   "source": [
    "cols_to_keep = ['City'\n",
    "    , 'Price_Index'\n",
    "    , 'Monthly rent for 85 m2 (900 sqft) furnished accommodation in expensive area']\n",
    "df.loc[:, cols_to_keep].sort_values(by = 'Monthly rent for 85 m2 (900 sqft) furnished accommodation in expensive area', ascending = False)"
   ]
  },
  {
   "cell_type": "code",
   "execution_count": 4,
   "metadata": {},
   "outputs": [
    {
     "data": {
      "text/html": [
       "<div>\n",
       "<style scoped>\n",
       "    .dataframe tbody tr th:only-of-type {\n",
       "        vertical-align: middle;\n",
       "    }\n",
       "\n",
       "    .dataframe tbody tr th {\n",
       "        vertical-align: top;\n",
       "    }\n",
       "\n",
       "    .dataframe thead th {\n",
       "        text-align: right;\n",
       "    }\n",
       "</style>\n",
       "<table border=\"1\" class=\"dataframe\">\n",
       "  <thead>\n",
       "    <tr style=\"text-align: right;\">\n",
       "      <th></th>\n",
       "      <th>City</th>\n",
       "      <th>Price_Index</th>\n",
       "      <th>Monthly rent for 85 m2 (900 sqft) furnished accommodation in expensive area</th>\n",
       "    </tr>\n",
       "  </thead>\n",
       "  <tbody>\n",
       "    <tr>\n",
       "      <th>0</th>\n",
       "      <td>Zurich, Switzerland</td>\n",
       "      <td>255</td>\n",
       "      <td>3743.0</td>\n",
       "    </tr>\n",
       "    <tr>\n",
       "      <th>1</th>\n",
       "      <td>Grand Cayman, Cayman Islands</td>\n",
       "      <td>253</td>\n",
       "      <td>4435.0</td>\n",
       "    </tr>\n",
       "    <tr>\n",
       "      <th>2</th>\n",
       "      <td>San Francisco, California, United States</td>\n",
       "      <td>239</td>\n",
       "      <td>6144.0</td>\n",
       "    </tr>\n",
       "    <tr>\n",
       "      <th>3</th>\n",
       "      <td>New York City, United States</td>\n",
       "      <td>238</td>\n",
       "      <td>4503.0</td>\n",
       "    </tr>\n",
       "    <tr>\n",
       "      <th>4</th>\n",
       "      <td>London, United Kingdom</td>\n",
       "      <td>238</td>\n",
       "      <td>3131.0</td>\n",
       "    </tr>\n",
       "    <tr>\n",
       "      <th>...</th>\n",
       "      <td>...</td>\n",
       "      <td>...</td>\n",
       "      <td>...</td>\n",
       "    </tr>\n",
       "    <tr>\n",
       "      <th>156</th>\n",
       "      <td>Bucaramanga, Colombia</td>\n",
       "      <td>55</td>\n",
       "      <td>422.0</td>\n",
       "    </tr>\n",
       "    <tr>\n",
       "      <th>157</th>\n",
       "      <td>Pune, India</td>\n",
       "      <td>52</td>\n",
       "      <td>475.0</td>\n",
       "    </tr>\n",
       "    <tr>\n",
       "      <th>158</th>\n",
       "      <td>Istanbul, Turkey</td>\n",
       "      <td>45</td>\n",
       "      <td>396.0</td>\n",
       "    </tr>\n",
       "    <tr>\n",
       "      <th>159</th>\n",
       "      <td>Ankara, Turkey</td>\n",
       "      <td>40</td>\n",
       "      <td>275.0</td>\n",
       "    </tr>\n",
       "    <tr>\n",
       "      <th>160</th>\n",
       "      <td>İzmir, Turkey</td>\n",
       "      <td>39</td>\n",
       "      <td>238.0</td>\n",
       "    </tr>\n",
       "  </tbody>\n",
       "</table>\n",
       "<p>161 rows × 3 columns</p>\n",
       "</div>"
      ],
      "text/plain": [
       "                                         City  Price_Index  \\\n",
       "0                         Zurich, Switzerland          255   \n",
       "1                Grand Cayman, Cayman Islands          253   \n",
       "2    San Francisco, California, United States          239   \n",
       "3                New York City, United States          238   \n",
       "4                      London, United Kingdom          238   \n",
       "..                                        ...          ...   \n",
       "156                     Bucaramanga, Colombia           55   \n",
       "157                               Pune, India           52   \n",
       "158                          Istanbul, Turkey           45   \n",
       "159                            Ankara, Turkey           40   \n",
       "160                             İzmir, Turkey           39   \n",
       "\n",
       "     Monthly rent for 85 m2 (900 sqft) furnished accommodation in expensive area  \n",
       "0                                               3743.0                            \n",
       "1                                               4435.0                            \n",
       "2                                               6144.0                            \n",
       "3                                               4503.0                            \n",
       "4                                               3131.0                            \n",
       "..                                                 ...                            \n",
       "156                                              422.0                            \n",
       "157                                              475.0                            \n",
       "158                                              396.0                            \n",
       "159                                              275.0                            \n",
       "160                                              238.0                            \n",
       "\n",
       "[161 rows x 3 columns]"
      ]
     },
     "execution_count": 4,
     "metadata": {},
     "output_type": "execute_result"
    }
   ],
   "source": [
    "cols_to_keep = ['City'\n",
    "    , 'Price_Index'\n",
    "    , 'Monthly rent for 85 m2 (900 sqft) furnished accommodation in expensive area']\n",
    "df.loc[:, cols_to_keep].sort_values(by = 'Price_Index', ascending = False)"
   ]
  },
  {
   "cell_type": "code",
   "execution_count": 5,
   "metadata": {},
   "outputs": [
    {
     "data": {
      "text/plain": [
       "(161, 54)"
      ]
     },
     "execution_count": 5,
     "metadata": {},
     "output_type": "execute_result"
    }
   ],
   "source": [
    "df.shape"
   ]
  },
  {
   "cell_type": "code",
   "execution_count": 6,
   "metadata": {
    "scrolled": true
   },
   "outputs": [
    {
     "data": {
      "text/html": [
       "<div>\n",
       "<style scoped>\n",
       "    .dataframe tbody tr th:only-of-type {\n",
       "        vertical-align: middle;\n",
       "    }\n",
       "\n",
       "    .dataframe tbody tr th {\n",
       "        vertical-align: top;\n",
       "    }\n",
       "\n",
       "    .dataframe thead th {\n",
       "        text-align: right;\n",
       "    }\n",
       "</style>\n",
       "<table border=\"1\" class=\"dataframe\">\n",
       "  <thead>\n",
       "    <tr style=\"text-align: right;\">\n",
       "      <th></th>\n",
       "      <th>City</th>\n",
       "      <th>Price_Index</th>\n",
       "      <th>Basic lunchtime menu (including a drink) in the business district</th>\n",
       "      <th>Combo meal in fast food restaurant (big mac meal or similar)</th>\n",
       "      <th>500 gr (1 lb.) of boneless chicken breast</th>\n",
       "      <th>1 liter (1 qt.) of whole fat milk</th>\n",
       "      <th>12 eggs, large</th>\n",
       "      <th>1 kg (2 lb.) of tomatoes</th>\n",
       "      <th>500 gr (16 oz.) of local cheese</th>\n",
       "      <th>1 kg (2 lb.) of apples</th>\n",
       "      <th>...</th>\n",
       "      <th>2 tickets to the movies</th>\n",
       "      <th>2 tickets to the theater (best available seats)</th>\n",
       "      <th>Dinner for two at an italian restaurant in the expat area including appetisers, main course, wine and dessert</th>\n",
       "      <th>1 cocktail drink in downtown club</th>\n",
       "      <th>Cappuccino in expat area of the city</th>\n",
       "      <th>1 beer in neighbourhood pub (500ml or 1pt.)</th>\n",
       "      <th>Ipad wi-fi 128gb</th>\n",
       "      <th>1 min. of prepaid mobile tariff (no discounts or plans)</th>\n",
       "      <th>1 month of gym membership in business district</th>\n",
       "      <th>1 package of marlboro cigarettes</th>\n",
       "    </tr>\n",
       "  </thead>\n",
       "  <tbody>\n",
       "    <tr>\n",
       "      <th>0</th>\n",
       "      <td>Zurich, Switzerland</td>\n",
       "      <td>255</td>\n",
       "      <td>29.0</td>\n",
       "      <td>15.0</td>\n",
       "      <td>12.00</td>\n",
       "      <td>1.98</td>\n",
       "      <td>8.00</td>\n",
       "      <td>3.88</td>\n",
       "      <td>10.0</td>\n",
       "      <td>3.80</td>\n",
       "      <td>...</td>\n",
       "      <td>36.0</td>\n",
       "      <td>283</td>\n",
       "      <td>105</td>\n",
       "      <td>18.0</td>\n",
       "      <td>5.63</td>\n",
       "      <td>8.0</td>\n",
       "      <td>536</td>\n",
       "      <td>0.44</td>\n",
       "      <td>131</td>\n",
       "      <td>9.0</td>\n",
       "    </tr>\n",
       "    <tr>\n",
       "      <th>1</th>\n",
       "      <td>Grand Cayman, Cayman Islands</td>\n",
       "      <td>253</td>\n",
       "      <td>19.0</td>\n",
       "      <td>10.0</td>\n",
       "      <td>6.00</td>\n",
       "      <td>3.21</td>\n",
       "      <td>5.63</td>\n",
       "      <td>8.00</td>\n",
       "      <td>8.0</td>\n",
       "      <td>7.00</td>\n",
       "      <td>...</td>\n",
       "      <td>33.0</td>\n",
       "      <td>56</td>\n",
       "      <td>106</td>\n",
       "      <td>13.0</td>\n",
       "      <td>6.00</td>\n",
       "      <td>7.0</td>\n",
       "      <td>635</td>\n",
       "      <td>0.41</td>\n",
       "      <td>79</td>\n",
       "      <td>12.0</td>\n",
       "    </tr>\n",
       "    <tr>\n",
       "      <th>2</th>\n",
       "      <td>San Francisco, California, United States</td>\n",
       "      <td>239</td>\n",
       "      <td>20.0</td>\n",
       "      <td>10.0</td>\n",
       "      <td>7.00</td>\n",
       "      <td>1.23</td>\n",
       "      <td>4.46</td>\n",
       "      <td>7.00</td>\n",
       "      <td>7.0</td>\n",
       "      <td>6.00</td>\n",
       "      <td>...</td>\n",
       "      <td>30.0</td>\n",
       "      <td>263</td>\n",
       "      <td>94</td>\n",
       "      <td>14.0</td>\n",
       "      <td>4.79</td>\n",
       "      <td>7.0</td>\n",
       "      <td>426</td>\n",
       "      <td>0.14</td>\n",
       "      <td>83</td>\n",
       "      <td>12.0</td>\n",
       "    </tr>\n",
       "    <tr>\n",
       "      <th>3</th>\n",
       "      <td>New York City, United States</td>\n",
       "      <td>238</td>\n",
       "      <td>19.0</td>\n",
       "      <td>9.0</td>\n",
       "      <td>6.00</td>\n",
       "      <td>1.11</td>\n",
       "      <td>3.63</td>\n",
       "      <td>4.62</td>\n",
       "      <td>7.0</td>\n",
       "      <td>3.73</td>\n",
       "      <td>...</td>\n",
       "      <td>31.0</td>\n",
       "      <td>397</td>\n",
       "      <td>113</td>\n",
       "      <td>17.0</td>\n",
       "      <td>5.12</td>\n",
       "      <td>7.0</td>\n",
       "      <td>423</td>\n",
       "      <td>0.48</td>\n",
       "      <td>74</td>\n",
       "      <td>14.0</td>\n",
       "    </tr>\n",
       "    <tr>\n",
       "      <th>4</th>\n",
       "      <td>London, United Kingdom</td>\n",
       "      <td>238</td>\n",
       "      <td>17.0</td>\n",
       "      <td>8.0</td>\n",
       "      <td>5.18</td>\n",
       "      <td>1.31</td>\n",
       "      <td>3.76</td>\n",
       "      <td>2.69</td>\n",
       "      <td>7.0</td>\n",
       "      <td>3.07</td>\n",
       "      <td>...</td>\n",
       "      <td>33.0</td>\n",
       "      <td>293</td>\n",
       "      <td>101</td>\n",
       "      <td>15.0</td>\n",
       "      <td>4.53</td>\n",
       "      <td>8.0</td>\n",
       "      <td>683</td>\n",
       "      <td>0.47</td>\n",
       "      <td>66</td>\n",
       "      <td>17.0</td>\n",
       "    </tr>\n",
       "  </tbody>\n",
       "</table>\n",
       "<p>5 rows × 54 columns</p>\n",
       "</div>"
      ],
      "text/plain": [
       "                                       City  Price_Index  \\\n",
       "0                       Zurich, Switzerland          255   \n",
       "1              Grand Cayman, Cayman Islands          253   \n",
       "2  San Francisco, California, United States          239   \n",
       "3              New York City, United States          238   \n",
       "4                    London, United Kingdom          238   \n",
       "\n",
       "   Basic lunchtime menu (including a drink) in the business district  \\\n",
       "0                                               29.0                   \n",
       "1                                               19.0                   \n",
       "2                                               20.0                   \n",
       "3                                               19.0                   \n",
       "4                                               17.0                   \n",
       "\n",
       "   Combo meal in fast food restaurant (big mac meal or similar)  \\\n",
       "0                                               15.0              \n",
       "1                                               10.0              \n",
       "2                                               10.0              \n",
       "3                                                9.0              \n",
       "4                                                8.0              \n",
       "\n",
       "   500 gr (1 lb.) of boneless chicken breast  \\\n",
       "0                                      12.00   \n",
       "1                                       6.00   \n",
       "2                                       7.00   \n",
       "3                                       6.00   \n",
       "4                                       5.18   \n",
       "\n",
       "   1 liter (1 qt.) of whole fat milk  12 eggs, large  \\\n",
       "0                               1.98            8.00   \n",
       "1                               3.21            5.63   \n",
       "2                               1.23            4.46   \n",
       "3                               1.11            3.63   \n",
       "4                               1.31            3.76   \n",
       "\n",
       "   1 kg (2 lb.) of tomatoes  500 gr (16 oz.) of local cheese  \\\n",
       "0                      3.88                             10.0   \n",
       "1                      8.00                              8.0   \n",
       "2                      7.00                              7.0   \n",
       "3                      4.62                              7.0   \n",
       "4                      2.69                              7.0   \n",
       "\n",
       "   1 kg (2 lb.) of apples  ...  2 tickets to the movies  \\\n",
       "0                    3.80  ...                     36.0   \n",
       "1                    7.00  ...                     33.0   \n",
       "2                    6.00  ...                     30.0   \n",
       "3                    3.73  ...                     31.0   \n",
       "4                    3.07  ...                     33.0   \n",
       "\n",
       "   2 tickets to the theater (best available seats)  \\\n",
       "0                                              283   \n",
       "1                                               56   \n",
       "2                                              263   \n",
       "3                                              397   \n",
       "4                                              293   \n",
       "\n",
       "   Dinner for two at an italian restaurant in the expat area including appetisers, main course, wine and dessert  \\\n",
       "0                                                105                                                               \n",
       "1                                                106                                                               \n",
       "2                                                 94                                                               \n",
       "3                                                113                                                               \n",
       "4                                                101                                                               \n",
       "\n",
       "   1 cocktail drink in downtown club  Cappuccino in expat area of the city  \\\n",
       "0                               18.0                                  5.63   \n",
       "1                               13.0                                  6.00   \n",
       "2                               14.0                                  4.79   \n",
       "3                               17.0                                  5.12   \n",
       "4                               15.0                                  4.53   \n",
       "\n",
       "   1 beer in neighbourhood pub (500ml or 1pt.)   Ipad wi-fi 128gb  \\\n",
       "0                                           8.0               536   \n",
       "1                                           7.0               635   \n",
       "2                                           7.0               426   \n",
       "3                                           7.0               423   \n",
       "4                                           8.0               683   \n",
       "\n",
       "   1 min. of prepaid mobile tariff (no discounts or plans)  \\\n",
       "0                                               0.44         \n",
       "1                                               0.41         \n",
       "2                                               0.14         \n",
       "3                                               0.48         \n",
       "4                                               0.47         \n",
       "\n",
       "   1 month of gym membership in business district  \\\n",
       "0                                             131   \n",
       "1                                              79   \n",
       "2                                              83   \n",
       "3                                              74   \n",
       "4                                              66   \n",
       "\n",
       "   1 package of marlboro cigarettes  \n",
       "0                               9.0  \n",
       "1                              12.0  \n",
       "2                              12.0  \n",
       "3                              14.0  \n",
       "4                              17.0  \n",
       "\n",
       "[5 rows x 54 columns]"
      ]
     },
     "execution_count": 6,
     "metadata": {},
     "output_type": "execute_result"
    }
   ],
   "source": [
    "df.head()"
   ]
  },
  {
   "cell_type": "markdown",
   "metadata": {},
   "source": [
    "# Check for nulls"
   ]
  },
  {
   "cell_type": "code",
   "execution_count": 7,
   "metadata": {},
   "outputs": [
    {
     "data": {
      "text/plain": [
       "City                                                                                                             0\n",
       "Price_Index                                                                                                      0\n",
       "Basic lunchtime menu (including a drink) in the business district                                                0\n",
       "Combo meal in fast food restaurant (big mac meal or similar)                                                     0\n",
       "500 gr (1 lb.) of boneless chicken breast                                                                        0\n",
       "1 liter (1 qt.) of whole fat milk                                                                                0\n",
       "12 eggs, large                                                                                                   0\n",
       "1 kg (2 lb.) of tomatoes                                                                                         0\n",
       "500 gr (16 oz.) of local cheese                                                                                  0\n",
       "1 kg (2 lb.) of apples                                                                                           0\n",
       "1 kg (2 lb.) of potatoes                                                                                         0\n",
       "0.5 l (16 oz) domestic beer in the supermarket                                                                   1\n",
       "1 bottle of red table wine, good quality                                                                         1\n",
       "2 liters of coca-cola                                                                                            0\n",
       "Bread for 2 people for 1 day                                                                                     0\n",
       "Monthly rent for 85 m2 (900 sqft) furnished accommodation in expensive area                                      0\n",
       "Monthly rent for 85 m2 (900 sqft) furnished accommodation in normal area                                         0\n",
       "Utilities 1 month (heating, electricity, gas ...) for 2 people in 85m2 flat                                      0\n",
       "Monthly rent for a 45 m2 (480 sqft) furnished studio in expensive area                                           0\n",
       "Monthly rent for a 45 m2 (480 sqft) furnished studio in normal area                                              0\n",
       "Utilities 1 month (heating, electricity, gas ...) for 1 person in 45 m2 (480 sqft) studio                        0\n",
       "Internet 8 mbps (1 month)                                                                                        0\n",
       "40” flat screen tv                                                                                               0\n",
       "Microwave 800/900 watt (bosch, panasonic, lg, sharp, or equivalent brands)                                       0\n",
       "Laundry detergent (3 l. ~ 100 oz.)                                                                               0\n",
       "Hourly rate for cleaning help                                                                                    0\n",
       "1 pair of jeans (levis 501 or similar)                                                                           0\n",
       "1 summer dress in a high street store (zara, h&m or similar retailers)                                           0\n",
       "1 pair of sport shoes (nike, adidas, or equivalent brands)                                                       0\n",
       "1 pair of men’s leather business shoes                                                                           0\n",
       "Volkswagen golf 1.4 tsi 150 cv (or equivalent), with no extras, new                                              0\n",
       "1 liter (1/4 gallon) of gas                                                                                      0\n",
       "Monthly ticket public transport                                                                                  0\n",
       "Taxi trip on a business day, basic tariff, 8 km. (5 miles)                                                       0\n",
       "Cold medicine for 6 days (tylenol, frenadol, coldrex, or equivalent brands)                                      0\n",
       "1 box of antibiotics (12 doses)                                                                                  0\n",
       "Short visit to private doctor (15 minutes)                                                                       0\n",
       "1 box of 32 tampons (tampax, ob, ...)                                                                            0\n",
       "Deodorant, roll-on (50ml ~ 1.5 oz.)                                                                              0\n",
       "Hair shampoo 2-in-1 (400 ml ~ 12 oz.)                                                                            0\n",
       "4 rolls of toilet paper                                                                                          0\n",
       "Tube of toothpaste                                                                                               0\n",
       "Standard men's haircut in expat area of the city                                                                 0\n",
       "Basic dinner out for two in neighborhood pub                                                                     0\n",
       "2 tickets to the movies                                                                                          0\n",
       "2 tickets to the theater (best available seats)                                                                  0\n",
       "Dinner for two at an italian restaurant in the expat area including appetisers, main course, wine and dessert    0\n",
       "1 cocktail drink in downtown club                                                                                1\n",
       "Cappuccino in expat area of the city                                                                             0\n",
       "1 beer in neighbourhood pub (500ml or 1pt.)                                                                      1\n",
       "Ipad wi-fi 128gb                                                                                                 0\n",
       "1 min. of prepaid mobile tariff (no discounts or plans)                                                          0\n",
       "1 month of gym membership in business district                                                                   0\n",
       "1 package of marlboro cigarettes                                                                                 0\n",
       "dtype: int64"
      ]
     },
     "execution_count": 7,
     "metadata": {},
     "output_type": "execute_result"
    }
   ],
   "source": [
    "df.isna().sum()"
   ]
  },
  {
   "cell_type": "code",
   "execution_count": 8,
   "metadata": {},
   "outputs": [
    {
     "data": {
      "text/plain": [
       "(160, 54)"
      ]
     },
     "execution_count": 8,
     "metadata": {},
     "output_type": "execute_result"
    }
   ],
   "source": [
    "# drop nulls for now\n",
    "df = df.dropna()\n",
    "df.shape"
   ]
  },
  {
   "cell_type": "markdown",
   "metadata": {},
   "source": [
    "# Split the dataset"
   ]
  },
  {
   "cell_type": "code",
   "execution_count": 9,
   "metadata": {},
   "outputs": [],
   "source": [
    "train_df = df.sample(frac = 0.8, random_state = 0)\n",
    "test_df = df.drop(train_df.index)"
   ]
  },
  {
   "cell_type": "code",
   "execution_count": 10,
   "metadata": {},
   "outputs": [],
   "source": [
    "assert len(train_df) + len(test_df) == len(df)"
   ]
  },
  {
   "cell_type": "code",
   "execution_count": 11,
   "metadata": {},
   "outputs": [],
   "source": [
    "train_features = train_df.drop(columns = ['City']).copy()\n",
    "test_features = test_df.drop(columns = ['City']).copy()\n",
    "\n",
    "train_labels = train_features.pop('Price_Index')\n",
    "test_labels = test_features.pop('Price_Index')\n",
    "\n",
    "train_labels = train_labels.astype('float32')\n",
    "test_labels = test_labels.astype('float32')"
   ]
  },
  {
   "cell_type": "markdown",
   "metadata": {},
   "source": [
    "# Inspect the data"
   ]
  },
  {
   "cell_type": "code",
   "execution_count": 12,
   "metadata": {},
   "outputs": [
    {
     "data": {
      "text/html": [
       "<div>\n",
       "<style scoped>\n",
       "    .dataframe tbody tr th:only-of-type {\n",
       "        vertical-align: middle;\n",
       "    }\n",
       "\n",
       "    .dataframe tbody tr th {\n",
       "        vertical-align: top;\n",
       "    }\n",
       "\n",
       "    .dataframe thead th {\n",
       "        text-align: right;\n",
       "    }\n",
       "</style>\n",
       "<table border=\"1\" class=\"dataframe\">\n",
       "  <thead>\n",
       "    <tr style=\"text-align: right;\">\n",
       "      <th></th>\n",
       "      <th>count</th>\n",
       "      <th>mean</th>\n",
       "      <th>std</th>\n",
       "      <th>min</th>\n",
       "      <th>25%</th>\n",
       "      <th>50%</th>\n",
       "      <th>75%</th>\n",
       "      <th>max</th>\n",
       "    </tr>\n",
       "  </thead>\n",
       "  <tbody>\n",
       "    <tr>\n",
       "      <th>Basic lunchtime menu (including a drink) in the business district</th>\n",
       "      <td>128.0</td>\n",
       "      <td>12.748047</td>\n",
       "      <td>5.703008</td>\n",
       "      <td>2.51</td>\n",
       "      <td>8.0000</td>\n",
       "      <td>13.000</td>\n",
       "      <td>17.0000</td>\n",
       "      <td>31.00</td>\n",
       "    </tr>\n",
       "    <tr>\n",
       "      <th>Combo meal in fast food restaurant (big mac meal or similar)</th>\n",
       "      <td>128.0</td>\n",
       "      <td>7.778594</td>\n",
       "      <td>2.786424</td>\n",
       "      <td>2.16</td>\n",
       "      <td>5.7475</td>\n",
       "      <td>8.000</td>\n",
       "      <td>9.0000</td>\n",
       "      <td>18.00</td>\n",
       "    </tr>\n",
       "    <tr>\n",
       "      <th>500 gr (1 lb.) of boneless chicken breast</th>\n",
       "      <td>128.0</td>\n",
       "      <td>4.037031</td>\n",
       "      <td>2.059597</td>\n",
       "      <td>1.22</td>\n",
       "      <td>2.4675</td>\n",
       "      <td>3.925</td>\n",
       "      <td>5.0325</td>\n",
       "      <td>14.00</td>\n",
       "    </tr>\n",
       "    <tr>\n",
       "      <th>1 liter (1 qt.) of whole fat milk</th>\n",
       "      <td>128.0</td>\n",
       "      <td>1.183359</td>\n",
       "      <td>0.486633</td>\n",
       "      <td>0.48</td>\n",
       "      <td>0.8475</td>\n",
       "      <td>1.080</td>\n",
       "      <td>1.3425</td>\n",
       "      <td>3.28</td>\n",
       "    </tr>\n",
       "    <tr>\n",
       "      <th>12 eggs, large</th>\n",
       "      <td>128.0</td>\n",
       "      <td>3.013203</td>\n",
       "      <td>1.401884</td>\n",
       "      <td>1.09</td>\n",
       "      <td>1.9575</td>\n",
       "      <td>2.775</td>\n",
       "      <td>3.6550</td>\n",
       "      <td>9.00</td>\n",
       "    </tr>\n",
       "    <tr>\n",
       "      <th>1 kg (2 lb.) of tomatoes</th>\n",
       "      <td>128.0</td>\n",
       "      <td>2.564609</td>\n",
       "      <td>1.563275</td>\n",
       "      <td>0.39</td>\n",
       "      <td>1.3225</td>\n",
       "      <td>2.225</td>\n",
       "      <td>3.7475</td>\n",
       "      <td>8.00</td>\n",
       "    </tr>\n",
       "    <tr>\n",
       "      <th>500 gr (16 oz.) of local cheese</th>\n",
       "      <td>128.0</td>\n",
       "      <td>5.665703</td>\n",
       "      <td>2.276952</td>\n",
       "      <td>1.78</td>\n",
       "      <td>3.9850</td>\n",
       "      <td>5.730</td>\n",
       "      <td>7.0000</td>\n",
       "      <td>13.00</td>\n",
       "    </tr>\n",
       "    <tr>\n",
       "      <th>1 kg (2 lb.) of apples</th>\n",
       "      <td>128.0</td>\n",
       "      <td>2.573047</td>\n",
       "      <td>1.176224</td>\n",
       "      <td>0.40</td>\n",
       "      <td>1.6875</td>\n",
       "      <td>2.465</td>\n",
       "      <td>3.2950</td>\n",
       "      <td>7.00</td>\n",
       "    </tr>\n",
       "    <tr>\n",
       "      <th>1 kg (2 lb.) of potatoes</th>\n",
       "      <td>128.0</td>\n",
       "      <td>1.451250</td>\n",
       "      <td>0.704642</td>\n",
       "      <td>0.25</td>\n",
       "      <td>0.9400</td>\n",
       "      <td>1.385</td>\n",
       "      <td>1.7900</td>\n",
       "      <td>3.67</td>\n",
       "    </tr>\n",
       "    <tr>\n",
       "      <th>0.5 l (16 oz) domestic beer in the supermarket</th>\n",
       "      <td>128.0</td>\n",
       "      <td>2.082266</td>\n",
       "      <td>1.108763</td>\n",
       "      <td>0.70</td>\n",
       "      <td>1.1350</td>\n",
       "      <td>1.725</td>\n",
       "      <td>2.8125</td>\n",
       "      <td>5.11</td>\n",
       "    </tr>\n",
       "    <tr>\n",
       "      <th>1 bottle of red table wine, good quality</th>\n",
       "      <td>128.0</td>\n",
       "      <td>11.898672</td>\n",
       "      <td>4.860240</td>\n",
       "      <td>5.21</td>\n",
       "      <td>8.0000</td>\n",
       "      <td>11.500</td>\n",
       "      <td>15.0000</td>\n",
       "      <td>30.00</td>\n",
       "    </tr>\n",
       "    <tr>\n",
       "      <th>2 liters of coca-cola</th>\n",
       "      <td>128.0</td>\n",
       "      <td>2.004688</td>\n",
       "      <td>0.668108</td>\n",
       "      <td>0.45</td>\n",
       "      <td>1.5875</td>\n",
       "      <td>1.980</td>\n",
       "      <td>2.3425</td>\n",
       "      <td>4.81</td>\n",
       "    </tr>\n",
       "    <tr>\n",
       "      <th>Bread for 2 people for 1 day</th>\n",
       "      <td>128.0</td>\n",
       "      <td>1.410391</td>\n",
       "      <td>0.807652</td>\n",
       "      <td>0.18</td>\n",
       "      <td>0.7275</td>\n",
       "      <td>1.285</td>\n",
       "      <td>1.8950</td>\n",
       "      <td>3.98</td>\n",
       "    </tr>\n",
       "    <tr>\n",
       "      <th>Monthly rent for 85 m2 (900 sqft) furnished accommodation in expensive area</th>\n",
       "      <td>128.0</td>\n",
       "      <td>1693.179688</td>\n",
       "      <td>1072.871307</td>\n",
       "      <td>238.00</td>\n",
       "      <td>872.5000</td>\n",
       "      <td>1550.500</td>\n",
       "      <td>2265.7500</td>\n",
       "      <td>6144.00</td>\n",
       "    </tr>\n",
       "    <tr>\n",
       "      <th>Monthly rent for 85 m2 (900 sqft) furnished accommodation in normal area</th>\n",
       "      <td>128.0</td>\n",
       "      <td>1195.656250</td>\n",
       "      <td>809.162281</td>\n",
       "      <td>151.00</td>\n",
       "      <td>514.0000</td>\n",
       "      <td>1078.000</td>\n",
       "      <td>1639.5000</td>\n",
       "      <td>4403.00</td>\n",
       "    </tr>\n",
       "    <tr>\n",
       "      <th>Utilities 1 month (heating, electricity, gas ...) for 2 people in 85m2 flat</th>\n",
       "      <td>128.0</td>\n",
       "      <td>138.585938</td>\n",
       "      <td>64.590232</td>\n",
       "      <td>30.00</td>\n",
       "      <td>79.5000</td>\n",
       "      <td>143.000</td>\n",
       "      <td>178.0000</td>\n",
       "      <td>364.00</td>\n",
       "    </tr>\n",
       "    <tr>\n",
       "      <th>Monthly rent for a 45 m2 (480 sqft) furnished studio in expensive area</th>\n",
       "      <td>128.0</td>\n",
       "      <td>1106.867188</td>\n",
       "      <td>715.972631</td>\n",
       "      <td>174.00</td>\n",
       "      <td>533.0000</td>\n",
       "      <td>992.500</td>\n",
       "      <td>1480.5000</td>\n",
       "      <td>4071.00</td>\n",
       "    </tr>\n",
       "    <tr>\n",
       "      <th>Monthly rent for a 45 m2 (480 sqft) furnished studio in normal area</th>\n",
       "      <td>128.0</td>\n",
       "      <td>778.375000</td>\n",
       "      <td>520.893448</td>\n",
       "      <td>96.00</td>\n",
       "      <td>319.5000</td>\n",
       "      <td>716.000</td>\n",
       "      <td>1063.7500</td>\n",
       "      <td>2645.00</td>\n",
       "    </tr>\n",
       "    <tr>\n",
       "      <th>Utilities 1 month (heating, electricity, gas ...) for 1 person in 45 m2 (480 sqft) studio</th>\n",
       "      <td>128.0</td>\n",
       "      <td>92.804688</td>\n",
       "      <td>45.059726</td>\n",
       "      <td>26.00</td>\n",
       "      <td>57.0000</td>\n",
       "      <td>93.500</td>\n",
       "      <td>116.2500</td>\n",
       "      <td>317.00</td>\n",
       "    </tr>\n",
       "    <tr>\n",
       "      <th>Internet 8 mbps (1 month)</th>\n",
       "      <td>128.0</td>\n",
       "      <td>33.838047</td>\n",
       "      <td>18.074128</td>\n",
       "      <td>5.18</td>\n",
       "      <td>18.0000</td>\n",
       "      <td>33.000</td>\n",
       "      <td>44.5000</td>\n",
       "      <td>108.00</td>\n",
       "    </tr>\n",
       "    <tr>\n",
       "      <th>40” flat screen tv</th>\n",
       "      <td>128.0</td>\n",
       "      <td>381.140625</td>\n",
       "      <td>100.866540</td>\n",
       "      <td>154.00</td>\n",
       "      <td>306.7500</td>\n",
       "      <td>376.000</td>\n",
       "      <td>440.5000</td>\n",
       "      <td>758.00</td>\n",
       "    </tr>\n",
       "    <tr>\n",
       "      <th>Microwave 800/900 watt (bosch, panasonic, lg, sharp, or equivalent brands)</th>\n",
       "      <td>128.0</td>\n",
       "      <td>123.648438</td>\n",
       "      <td>34.615001</td>\n",
       "      <td>51.00</td>\n",
       "      <td>100.7500</td>\n",
       "      <td>116.500</td>\n",
       "      <td>147.7500</td>\n",
       "      <td>234.00</td>\n",
       "    </tr>\n",
       "    <tr>\n",
       "      <th>Laundry detergent (3 l. ~ 100 oz.)</th>\n",
       "      <td>128.0</td>\n",
       "      <td>8.346875</td>\n",
       "      <td>3.364490</td>\n",
       "      <td>2.16</td>\n",
       "      <td>5.9375</td>\n",
       "      <td>8.000</td>\n",
       "      <td>10.0000</td>\n",
       "      <td>22.00</td>\n",
       "    </tr>\n",
       "    <tr>\n",
       "      <th>Hourly rate for cleaning help</th>\n",
       "      <td>128.0</td>\n",
       "      <td>14.126719</td>\n",
       "      <td>9.739093</td>\n",
       "      <td>2.13</td>\n",
       "      <td>5.5600</td>\n",
       "      <td>13.000</td>\n",
       "      <td>21.0000</td>\n",
       "      <td>40.00</td>\n",
       "    </tr>\n",
       "    <tr>\n",
       "      <th>1 pair of jeans (levis 501 or similar)</th>\n",
       "      <td>128.0</td>\n",
       "      <td>66.609375</td>\n",
       "      <td>26.057246</td>\n",
       "      <td>17.00</td>\n",
       "      <td>46.0000</td>\n",
       "      <td>61.000</td>\n",
       "      <td>87.5000</td>\n",
       "      <td>137.00</td>\n",
       "    </tr>\n",
       "    <tr>\n",
       "      <th>1 summer dress in a high street store (zara, h&amp;m or similar retailers)</th>\n",
       "      <td>128.0</td>\n",
       "      <td>40.687500</td>\n",
       "      <td>9.702463</td>\n",
       "      <td>14.00</td>\n",
       "      <td>35.0000</td>\n",
       "      <td>40.000</td>\n",
       "      <td>46.0000</td>\n",
       "      <td>72.00</td>\n",
       "    </tr>\n",
       "    <tr>\n",
       "      <th>1 pair of sport shoes (nike, adidas, or equivalent brands)</th>\n",
       "      <td>128.0</td>\n",
       "      <td>88.695312</td>\n",
       "      <td>21.801740</td>\n",
       "      <td>43.00</td>\n",
       "      <td>75.0000</td>\n",
       "      <td>90.500</td>\n",
       "      <td>98.2500</td>\n",
       "      <td>156.00</td>\n",
       "    </tr>\n",
       "    <tr>\n",
       "      <th>1 pair of men’s leather business shoes</th>\n",
       "      <td>128.0</td>\n",
       "      <td>102.632812</td>\n",
       "      <td>39.425175</td>\n",
       "      <td>28.00</td>\n",
       "      <td>82.0000</td>\n",
       "      <td>101.500</td>\n",
       "      <td>123.0000</td>\n",
       "      <td>224.00</td>\n",
       "    </tr>\n",
       "    <tr>\n",
       "      <th>Volkswagen golf 1.4 tsi 150 cv (or equivalent), with no extras, new</th>\n",
       "      <td>128.0</td>\n",
       "      <td>24865.250000</td>\n",
       "      <td>9212.877902</td>\n",
       "      <td>10461.00</td>\n",
       "      <td>19971.5000</td>\n",
       "      <td>23702.500</td>\n",
       "      <td>28272.2500</td>\n",
       "      <td>92503.00</td>\n",
       "    </tr>\n",
       "    <tr>\n",
       "      <th>1 liter (1/4 gallon) of gas</th>\n",
       "      <td>128.0</td>\n",
       "      <td>1.193594</td>\n",
       "      <td>0.434795</td>\n",
       "      <td>0.50</td>\n",
       "      <td>0.8575</td>\n",
       "      <td>1.085</td>\n",
       "      <td>1.5825</td>\n",
       "      <td>2.39</td>\n",
       "    </tr>\n",
       "    <tr>\n",
       "      <th>Monthly ticket public transport</th>\n",
       "      <td>128.0</td>\n",
       "      <td>60.148438</td>\n",
       "      <td>35.801089</td>\n",
       "      <td>8.00</td>\n",
       "      <td>32.0000</td>\n",
       "      <td>49.500</td>\n",
       "      <td>86.0000</td>\n",
       "      <td>205.00</td>\n",
       "    </tr>\n",
       "    <tr>\n",
       "      <th>Taxi trip on a business day, basic tariff, 8 km. (5 miles)</th>\n",
       "      <td>128.0</td>\n",
       "      <td>15.982422</td>\n",
       "      <td>8.971832</td>\n",
       "      <td>2.49</td>\n",
       "      <td>8.0000</td>\n",
       "      <td>16.000</td>\n",
       "      <td>21.0000</td>\n",
       "      <td>44.00</td>\n",
       "    </tr>\n",
       "    <tr>\n",
       "      <th>Cold medicine for 6 days (tylenol, frenadol, coldrex, or equivalent brands)</th>\n",
       "      <td>128.0</td>\n",
       "      <td>6.167734</td>\n",
       "      <td>2.734882</td>\n",
       "      <td>1.06</td>\n",
       "      <td>4.0800</td>\n",
       "      <td>5.900</td>\n",
       "      <td>8.0000</td>\n",
       "      <td>18.00</td>\n",
       "    </tr>\n",
       "    <tr>\n",
       "      <th>1 box of antibiotics (12 doses)</th>\n",
       "      <td>128.0</td>\n",
       "      <td>12.029297</td>\n",
       "      <td>6.828777</td>\n",
       "      <td>1.73</td>\n",
       "      <td>7.0000</td>\n",
       "      <td>10.000</td>\n",
       "      <td>15.0000</td>\n",
       "      <td>35.00</td>\n",
       "    </tr>\n",
       "    <tr>\n",
       "      <th>Short visit to private doctor (15 minutes)</th>\n",
       "      <td>128.0</td>\n",
       "      <td>63.835938</td>\n",
       "      <td>42.275768</td>\n",
       "      <td>9.00</td>\n",
       "      <td>32.0000</td>\n",
       "      <td>49.000</td>\n",
       "      <td>91.0000</td>\n",
       "      <td>193.00</td>\n",
       "    </tr>\n",
       "    <tr>\n",
       "      <th>1 box of 32 tampons (tampax, ob, ...)</th>\n",
       "      <td>128.0</td>\n",
       "      <td>5.147109</td>\n",
       "      <td>1.763175</td>\n",
       "      <td>1.43</td>\n",
       "      <td>3.9775</td>\n",
       "      <td>4.960</td>\n",
       "      <td>6.0000</td>\n",
       "      <td>10.00</td>\n",
       "    </tr>\n",
       "    <tr>\n",
       "      <th>Deodorant, roll-on (50ml ~ 1.5 oz.)</th>\n",
       "      <td>128.0</td>\n",
       "      <td>3.497578</td>\n",
       "      <td>1.095091</td>\n",
       "      <td>1.53</td>\n",
       "      <td>2.7525</td>\n",
       "      <td>3.480</td>\n",
       "      <td>4.2025</td>\n",
       "      <td>8.00</td>\n",
       "    </tr>\n",
       "    <tr>\n",
       "      <th>Hair shampoo 2-in-1 (400 ml ~ 12 oz.)</th>\n",
       "      <td>128.0</td>\n",
       "      <td>4.263984</td>\n",
       "      <td>1.317775</td>\n",
       "      <td>1.38</td>\n",
       "      <td>3.2775</td>\n",
       "      <td>4.145</td>\n",
       "      <td>4.9575</td>\n",
       "      <td>8.00</td>\n",
       "    </tr>\n",
       "    <tr>\n",
       "      <th>4 rolls of toilet paper</th>\n",
       "      <td>128.0</td>\n",
       "      <td>2.353438</td>\n",
       "      <td>1.199837</td>\n",
       "      <td>0.73</td>\n",
       "      <td>1.5350</td>\n",
       "      <td>1.920</td>\n",
       "      <td>2.7600</td>\n",
       "      <td>7.00</td>\n",
       "    </tr>\n",
       "    <tr>\n",
       "      <th>Tube of toothpaste</th>\n",
       "      <td>128.0</td>\n",
       "      <td>2.090625</td>\n",
       "      <td>0.829100</td>\n",
       "      <td>0.68</td>\n",
       "      <td>1.4900</td>\n",
       "      <td>2.020</td>\n",
       "      <td>2.5575</td>\n",
       "      <td>5.03</td>\n",
       "    </tr>\n",
       "    <tr>\n",
       "      <th>Standard men's haircut in expat area of the city</th>\n",
       "      <td>128.0</td>\n",
       "      <td>18.640781</td>\n",
       "      <td>10.311413</td>\n",
       "      <td>2.41</td>\n",
       "      <td>10.7500</td>\n",
       "      <td>17.500</td>\n",
       "      <td>25.0000</td>\n",
       "      <td>50.00</td>\n",
       "    </tr>\n",
       "    <tr>\n",
       "      <th>Basic dinner out for two in neighborhood pub</th>\n",
       "      <td>128.0</td>\n",
       "      <td>35.764922</td>\n",
       "      <td>17.230794</td>\n",
       "      <td>5.91</td>\n",
       "      <td>20.7500</td>\n",
       "      <td>36.000</td>\n",
       "      <td>47.2500</td>\n",
       "      <td>88.00</td>\n",
       "    </tr>\n",
       "    <tr>\n",
       "      <th>2 tickets to the movies</th>\n",
       "      <td>128.0</td>\n",
       "      <td>19.158984</td>\n",
       "      <td>8.769332</td>\n",
       "      <td>3.62</td>\n",
       "      <td>11.0000</td>\n",
       "      <td>20.000</td>\n",
       "      <td>27.0000</td>\n",
       "      <td>43.00</td>\n",
       "    </tr>\n",
       "    <tr>\n",
       "      <th>2 tickets to the theater (best available seats)</th>\n",
       "      <td>128.0</td>\n",
       "      <td>99.179688</td>\n",
       "      <td>77.171293</td>\n",
       "      <td>11.00</td>\n",
       "      <td>40.0000</td>\n",
       "      <td>76.000</td>\n",
       "      <td>137.2500</td>\n",
       "      <td>397.00</td>\n",
       "    </tr>\n",
       "    <tr>\n",
       "      <th>Dinner for two at an italian restaurant in the expat area including appetisers, main course, wine and dessert</th>\n",
       "      <td>128.0</td>\n",
       "      <td>62.320312</td>\n",
       "      <td>28.364593</td>\n",
       "      <td>14.00</td>\n",
       "      <td>37.7500</td>\n",
       "      <td>59.500</td>\n",
       "      <td>81.2500</td>\n",
       "      <td>140.00</td>\n",
       "    </tr>\n",
       "    <tr>\n",
       "      <th>1 cocktail drink in downtown club</th>\n",
       "      <td>128.0</td>\n",
       "      <td>10.353203</td>\n",
       "      <td>4.041744</td>\n",
       "      <td>3.16</td>\n",
       "      <td>7.0000</td>\n",
       "      <td>10.000</td>\n",
       "      <td>13.0000</td>\n",
       "      <td>22.00</td>\n",
       "    </tr>\n",
       "    <tr>\n",
       "      <th>Cappuccino in expat area of the city</th>\n",
       "      <td>128.0</td>\n",
       "      <td>3.694531</td>\n",
       "      <td>1.236238</td>\n",
       "      <td>1.30</td>\n",
       "      <td>2.9850</td>\n",
       "      <td>3.660</td>\n",
       "      <td>4.7900</td>\n",
       "      <td>7.00</td>\n",
       "    </tr>\n",
       "    <tr>\n",
       "      <th>1 beer in neighbourhood pub (500ml or 1pt.)</th>\n",
       "      <td>128.0</td>\n",
       "      <td>4.689297</td>\n",
       "      <td>2.474611</td>\n",
       "      <td>0.77</td>\n",
       "      <td>2.5125</td>\n",
       "      <td>4.580</td>\n",
       "      <td>6.0000</td>\n",
       "      <td>14.00</td>\n",
       "    </tr>\n",
       "    <tr>\n",
       "      <th>Ipad wi-fi 128gb</th>\n",
       "      <td>128.0</td>\n",
       "      <td>522.664062</td>\n",
       "      <td>101.307148</td>\n",
       "      <td>295.00</td>\n",
       "      <td>461.5000</td>\n",
       "      <td>510.000</td>\n",
       "      <td>574.2500</td>\n",
       "      <td>997.00</td>\n",
       "    </tr>\n",
       "    <tr>\n",
       "      <th>1 min. of prepaid mobile tariff (no discounts or plans)</th>\n",
       "      <td>128.0</td>\n",
       "      <td>0.211016</td>\n",
       "      <td>0.144330</td>\n",
       "      <td>0.02</td>\n",
       "      <td>0.1200</td>\n",
       "      <td>0.165</td>\n",
       "      <td>0.2700</td>\n",
       "      <td>0.65</td>\n",
       "    </tr>\n",
       "    <tr>\n",
       "      <th>1 month of gym membership in business district</th>\n",
       "      <td>128.0</td>\n",
       "      <td>49.929688</td>\n",
       "      <td>21.129963</td>\n",
       "      <td>14.00</td>\n",
       "      <td>34.7500</td>\n",
       "      <td>47.000</td>\n",
       "      <td>56.2500</td>\n",
       "      <td>131.00</td>\n",
       "    </tr>\n",
       "    <tr>\n",
       "      <th>1 package of marlboro cigarettes</th>\n",
       "      <td>128.0</td>\n",
       "      <td>7.222969</td>\n",
       "      <td>5.376357</td>\n",
       "      <td>1.24</td>\n",
       "      <td>3.8300</td>\n",
       "      <td>5.800</td>\n",
       "      <td>9.0000</td>\n",
       "      <td>32.00</td>\n",
       "    </tr>\n",
       "  </tbody>\n",
       "</table>\n",
       "</div>"
      ],
      "text/plain": [
       "                                                    count          mean  \\\n",
       "Basic lunchtime menu (including a drink) in the...  128.0     12.748047   \n",
       "Combo meal in fast food restaurant (big mac mea...  128.0      7.778594   \n",
       "500 gr (1 lb.) of boneless chicken breast           128.0      4.037031   \n",
       "1 liter (1 qt.) of whole fat milk                   128.0      1.183359   \n",
       "12 eggs, large                                      128.0      3.013203   \n",
       "1 kg (2 lb.) of tomatoes                            128.0      2.564609   \n",
       "500 gr (16 oz.) of local cheese                     128.0      5.665703   \n",
       "1 kg (2 lb.) of apples                              128.0      2.573047   \n",
       "1 kg (2 lb.) of potatoes                            128.0      1.451250   \n",
       "0.5 l (16 oz) domestic beer in the supermarket      128.0      2.082266   \n",
       "1 bottle of red table wine, good quality            128.0     11.898672   \n",
       "2 liters of coca-cola                               128.0      2.004688   \n",
       "Bread for 2 people for 1 day                        128.0      1.410391   \n",
       "Monthly rent for 85 m2 (900 sqft) furnished acc...  128.0   1693.179688   \n",
       "Monthly rent for 85 m2 (900 sqft) furnished acc...  128.0   1195.656250   \n",
       "Utilities 1 month (heating, electricity, gas .....  128.0    138.585938   \n",
       "Monthly rent for a 45 m2 (480 sqft) furnished s...  128.0   1106.867188   \n",
       "Monthly rent for a 45 m2 (480 sqft) furnished s...  128.0    778.375000   \n",
       "Utilities 1 month (heating, electricity, gas .....  128.0     92.804688   \n",
       "Internet 8 mbps (1 month)                           128.0     33.838047   \n",
       "40” flat screen tv                                  128.0    381.140625   \n",
       "Microwave 800/900 watt (bosch, panasonic, lg, s...  128.0    123.648438   \n",
       "Laundry detergent (3 l. ~ 100 oz.)                  128.0      8.346875   \n",
       "Hourly rate for cleaning help                       128.0     14.126719   \n",
       "1 pair of jeans (levis 501 or similar)              128.0     66.609375   \n",
       "1 summer dress in a high street store (zara, h&...  128.0     40.687500   \n",
       "1 pair of sport shoes (nike, adidas, or equival...  128.0     88.695312   \n",
       "1 pair of men’s leather business shoes              128.0    102.632812   \n",
       "Volkswagen golf 1.4 tsi 150 cv (or equivalent),...  128.0  24865.250000   \n",
       "1 liter (1/4 gallon) of gas                         128.0      1.193594   \n",
       "Monthly ticket public transport                     128.0     60.148438   \n",
       "Taxi trip on a business day, basic tariff, 8 km...  128.0     15.982422   \n",
       "Cold medicine for 6 days (tylenol, frenadol, co...  128.0      6.167734   \n",
       "1 box of antibiotics (12 doses)                     128.0     12.029297   \n",
       "Short visit to private doctor (15 minutes)          128.0     63.835938   \n",
       "1 box of 32 tampons (tampax, ob, ...)               128.0      5.147109   \n",
       "Deodorant, roll-on (50ml ~ 1.5 oz.)                 128.0      3.497578   \n",
       "Hair shampoo 2-in-1 (400 ml ~ 12 oz.)               128.0      4.263984   \n",
       "4 rolls of toilet paper                             128.0      2.353438   \n",
       "Tube of toothpaste                                  128.0      2.090625   \n",
       "Standard men's haircut in expat area of the city    128.0     18.640781   \n",
       "Basic dinner out for two in neighborhood pub        128.0     35.764922   \n",
       "2 tickets to the movies                             128.0     19.158984   \n",
       "2 tickets to the theater (best available seats)     128.0     99.179688   \n",
       "Dinner for two at an italian restaurant in the ...  128.0     62.320312   \n",
       "1 cocktail drink in downtown club                   128.0     10.353203   \n",
       "Cappuccino in expat area of the city                128.0      3.694531   \n",
       "1 beer in neighbourhood pub (500ml or 1pt.)         128.0      4.689297   \n",
       "Ipad wi-fi 128gb                                    128.0    522.664062   \n",
       "1 min. of prepaid mobile tariff (no discounts o...  128.0      0.211016   \n",
       "1 month of gym membership in business district      128.0     49.929688   \n",
       "1 package of marlboro cigarettes                    128.0      7.222969   \n",
       "\n",
       "                                                            std       min  \\\n",
       "Basic lunchtime menu (including a drink) in the...     5.703008      2.51   \n",
       "Combo meal in fast food restaurant (big mac mea...     2.786424      2.16   \n",
       "500 gr (1 lb.) of boneless chicken breast              2.059597      1.22   \n",
       "1 liter (1 qt.) of whole fat milk                      0.486633      0.48   \n",
       "12 eggs, large                                         1.401884      1.09   \n",
       "1 kg (2 lb.) of tomatoes                               1.563275      0.39   \n",
       "500 gr (16 oz.) of local cheese                        2.276952      1.78   \n",
       "1 kg (2 lb.) of apples                                 1.176224      0.40   \n",
       "1 kg (2 lb.) of potatoes                               0.704642      0.25   \n",
       "0.5 l (16 oz) domestic beer in the supermarket         1.108763      0.70   \n",
       "1 bottle of red table wine, good quality               4.860240      5.21   \n",
       "2 liters of coca-cola                                  0.668108      0.45   \n",
       "Bread for 2 people for 1 day                           0.807652      0.18   \n",
       "Monthly rent for 85 m2 (900 sqft) furnished acc...  1072.871307    238.00   \n",
       "Monthly rent for 85 m2 (900 sqft) furnished acc...   809.162281    151.00   \n",
       "Utilities 1 month (heating, electricity, gas .....    64.590232     30.00   \n",
       "Monthly rent for a 45 m2 (480 sqft) furnished s...   715.972631    174.00   \n",
       "Monthly rent for a 45 m2 (480 sqft) furnished s...   520.893448     96.00   \n",
       "Utilities 1 month (heating, electricity, gas .....    45.059726     26.00   \n",
       "Internet 8 mbps (1 month)                             18.074128      5.18   \n",
       "40” flat screen tv                                   100.866540    154.00   \n",
       "Microwave 800/900 watt (bosch, panasonic, lg, s...    34.615001     51.00   \n",
       "Laundry detergent (3 l. ~ 100 oz.)                     3.364490      2.16   \n",
       "Hourly rate for cleaning help                          9.739093      2.13   \n",
       "1 pair of jeans (levis 501 or similar)                26.057246     17.00   \n",
       "1 summer dress in a high street store (zara, h&...     9.702463     14.00   \n",
       "1 pair of sport shoes (nike, adidas, or equival...    21.801740     43.00   \n",
       "1 pair of men’s leather business shoes                39.425175     28.00   \n",
       "Volkswagen golf 1.4 tsi 150 cv (or equivalent),...  9212.877902  10461.00   \n",
       "1 liter (1/4 gallon) of gas                            0.434795      0.50   \n",
       "Monthly ticket public transport                       35.801089      8.00   \n",
       "Taxi trip on a business day, basic tariff, 8 km...     8.971832      2.49   \n",
       "Cold medicine for 6 days (tylenol, frenadol, co...     2.734882      1.06   \n",
       "1 box of antibiotics (12 doses)                        6.828777      1.73   \n",
       "Short visit to private doctor (15 minutes)            42.275768      9.00   \n",
       "1 box of 32 tampons (tampax, ob, ...)                  1.763175      1.43   \n",
       "Deodorant, roll-on (50ml ~ 1.5 oz.)                    1.095091      1.53   \n",
       "Hair shampoo 2-in-1 (400 ml ~ 12 oz.)                  1.317775      1.38   \n",
       "4 rolls of toilet paper                                1.199837      0.73   \n",
       "Tube of toothpaste                                     0.829100      0.68   \n",
       "Standard men's haircut in expat area of the city      10.311413      2.41   \n",
       "Basic dinner out for two in neighborhood pub          17.230794      5.91   \n",
       "2 tickets to the movies                                8.769332      3.62   \n",
       "2 tickets to the theater (best available seats)       77.171293     11.00   \n",
       "Dinner for two at an italian restaurant in the ...    28.364593     14.00   \n",
       "1 cocktail drink in downtown club                      4.041744      3.16   \n",
       "Cappuccino in expat area of the city                   1.236238      1.30   \n",
       "1 beer in neighbourhood pub (500ml or 1pt.)            2.474611      0.77   \n",
       "Ipad wi-fi 128gb                                     101.307148    295.00   \n",
       "1 min. of prepaid mobile tariff (no discounts o...     0.144330      0.02   \n",
       "1 month of gym membership in business district        21.129963     14.00   \n",
       "1 package of marlboro cigarettes                       5.376357      1.24   \n",
       "\n",
       "                                                           25%        50%  \\\n",
       "Basic lunchtime menu (including a drink) in the...      8.0000     13.000   \n",
       "Combo meal in fast food restaurant (big mac mea...      5.7475      8.000   \n",
       "500 gr (1 lb.) of boneless chicken breast               2.4675      3.925   \n",
       "1 liter (1 qt.) of whole fat milk                       0.8475      1.080   \n",
       "12 eggs, large                                          1.9575      2.775   \n",
       "1 kg (2 lb.) of tomatoes                                1.3225      2.225   \n",
       "500 gr (16 oz.) of local cheese                         3.9850      5.730   \n",
       "1 kg (2 lb.) of apples                                  1.6875      2.465   \n",
       "1 kg (2 lb.) of potatoes                                0.9400      1.385   \n",
       "0.5 l (16 oz) domestic beer in the supermarket          1.1350      1.725   \n",
       "1 bottle of red table wine, good quality                8.0000     11.500   \n",
       "2 liters of coca-cola                                   1.5875      1.980   \n",
       "Bread for 2 people for 1 day                            0.7275      1.285   \n",
       "Monthly rent for 85 m2 (900 sqft) furnished acc...    872.5000   1550.500   \n",
       "Monthly rent for 85 m2 (900 sqft) furnished acc...    514.0000   1078.000   \n",
       "Utilities 1 month (heating, electricity, gas .....     79.5000    143.000   \n",
       "Monthly rent for a 45 m2 (480 sqft) furnished s...    533.0000    992.500   \n",
       "Monthly rent for a 45 m2 (480 sqft) furnished s...    319.5000    716.000   \n",
       "Utilities 1 month (heating, electricity, gas .....     57.0000     93.500   \n",
       "Internet 8 mbps (1 month)                              18.0000     33.000   \n",
       "40” flat screen tv                                    306.7500    376.000   \n",
       "Microwave 800/900 watt (bosch, panasonic, lg, s...    100.7500    116.500   \n",
       "Laundry detergent (3 l. ~ 100 oz.)                      5.9375      8.000   \n",
       "Hourly rate for cleaning help                           5.5600     13.000   \n",
       "1 pair of jeans (levis 501 or similar)                 46.0000     61.000   \n",
       "1 summer dress in a high street store (zara, h&...     35.0000     40.000   \n",
       "1 pair of sport shoes (nike, adidas, or equival...     75.0000     90.500   \n",
       "1 pair of men’s leather business shoes                 82.0000    101.500   \n",
       "Volkswagen golf 1.4 tsi 150 cv (or equivalent),...  19971.5000  23702.500   \n",
       "1 liter (1/4 gallon) of gas                             0.8575      1.085   \n",
       "Monthly ticket public transport                        32.0000     49.500   \n",
       "Taxi trip on a business day, basic tariff, 8 km...      8.0000     16.000   \n",
       "Cold medicine for 6 days (tylenol, frenadol, co...      4.0800      5.900   \n",
       "1 box of antibiotics (12 doses)                         7.0000     10.000   \n",
       "Short visit to private doctor (15 minutes)             32.0000     49.000   \n",
       "1 box of 32 tampons (tampax, ob, ...)                   3.9775      4.960   \n",
       "Deodorant, roll-on (50ml ~ 1.5 oz.)                     2.7525      3.480   \n",
       "Hair shampoo 2-in-1 (400 ml ~ 12 oz.)                   3.2775      4.145   \n",
       "4 rolls of toilet paper                                 1.5350      1.920   \n",
       "Tube of toothpaste                                      1.4900      2.020   \n",
       "Standard men's haircut in expat area of the city       10.7500     17.500   \n",
       "Basic dinner out for two in neighborhood pub           20.7500     36.000   \n",
       "2 tickets to the movies                                11.0000     20.000   \n",
       "2 tickets to the theater (best available seats)        40.0000     76.000   \n",
       "Dinner for two at an italian restaurant in the ...     37.7500     59.500   \n",
       "1 cocktail drink in downtown club                       7.0000     10.000   \n",
       "Cappuccino in expat area of the city                    2.9850      3.660   \n",
       "1 beer in neighbourhood pub (500ml or 1pt.)             2.5125      4.580   \n",
       "Ipad wi-fi 128gb                                      461.5000    510.000   \n",
       "1 min. of prepaid mobile tariff (no discounts o...      0.1200      0.165   \n",
       "1 month of gym membership in business district         34.7500     47.000   \n",
       "1 package of marlboro cigarettes                        3.8300      5.800   \n",
       "\n",
       "                                                           75%       max  \n",
       "Basic lunchtime menu (including a drink) in the...     17.0000     31.00  \n",
       "Combo meal in fast food restaurant (big mac mea...      9.0000     18.00  \n",
       "500 gr (1 lb.) of boneless chicken breast               5.0325     14.00  \n",
       "1 liter (1 qt.) of whole fat milk                       1.3425      3.28  \n",
       "12 eggs, large                                          3.6550      9.00  \n",
       "1 kg (2 lb.) of tomatoes                                3.7475      8.00  \n",
       "500 gr (16 oz.) of local cheese                         7.0000     13.00  \n",
       "1 kg (2 lb.) of apples                                  3.2950      7.00  \n",
       "1 kg (2 lb.) of potatoes                                1.7900      3.67  \n",
       "0.5 l (16 oz) domestic beer in the supermarket          2.8125      5.11  \n",
       "1 bottle of red table wine, good quality               15.0000     30.00  \n",
       "2 liters of coca-cola                                   2.3425      4.81  \n",
       "Bread for 2 people for 1 day                            1.8950      3.98  \n",
       "Monthly rent for 85 m2 (900 sqft) furnished acc...   2265.7500   6144.00  \n",
       "Monthly rent for 85 m2 (900 sqft) furnished acc...   1639.5000   4403.00  \n",
       "Utilities 1 month (heating, electricity, gas .....    178.0000    364.00  \n",
       "Monthly rent for a 45 m2 (480 sqft) furnished s...   1480.5000   4071.00  \n",
       "Monthly rent for a 45 m2 (480 sqft) furnished s...   1063.7500   2645.00  \n",
       "Utilities 1 month (heating, electricity, gas .....    116.2500    317.00  \n",
       "Internet 8 mbps (1 month)                              44.5000    108.00  \n",
       "40” flat screen tv                                    440.5000    758.00  \n",
       "Microwave 800/900 watt (bosch, panasonic, lg, s...    147.7500    234.00  \n",
       "Laundry detergent (3 l. ~ 100 oz.)                     10.0000     22.00  \n",
       "Hourly rate for cleaning help                          21.0000     40.00  \n",
       "1 pair of jeans (levis 501 or similar)                 87.5000    137.00  \n",
       "1 summer dress in a high street store (zara, h&...     46.0000     72.00  \n",
       "1 pair of sport shoes (nike, adidas, or equival...     98.2500    156.00  \n",
       "1 pair of men’s leather business shoes                123.0000    224.00  \n",
       "Volkswagen golf 1.4 tsi 150 cv (or equivalent),...  28272.2500  92503.00  \n",
       "1 liter (1/4 gallon) of gas                             1.5825      2.39  \n",
       "Monthly ticket public transport                        86.0000    205.00  \n",
       "Taxi trip on a business day, basic tariff, 8 km...     21.0000     44.00  \n",
       "Cold medicine for 6 days (tylenol, frenadol, co...      8.0000     18.00  \n",
       "1 box of antibiotics (12 doses)                        15.0000     35.00  \n",
       "Short visit to private doctor (15 minutes)             91.0000    193.00  \n",
       "1 box of 32 tampons (tampax, ob, ...)                   6.0000     10.00  \n",
       "Deodorant, roll-on (50ml ~ 1.5 oz.)                     4.2025      8.00  \n",
       "Hair shampoo 2-in-1 (400 ml ~ 12 oz.)                   4.9575      8.00  \n",
       "4 rolls of toilet paper                                 2.7600      7.00  \n",
       "Tube of toothpaste                                      2.5575      5.03  \n",
       "Standard men's haircut in expat area of the city       25.0000     50.00  \n",
       "Basic dinner out for two in neighborhood pub           47.2500     88.00  \n",
       "2 tickets to the movies                                27.0000     43.00  \n",
       "2 tickets to the theater (best available seats)       137.2500    397.00  \n",
       "Dinner for two at an italian restaurant in the ...     81.2500    140.00  \n",
       "1 cocktail drink in downtown club                      13.0000     22.00  \n",
       "Cappuccino in expat area of the city                    4.7900      7.00  \n",
       "1 beer in neighbourhood pub (500ml or 1pt.)             6.0000     14.00  \n",
       "Ipad wi-fi 128gb                                      574.2500    997.00  \n",
       "1 min. of prepaid mobile tariff (no discounts o...      0.2700      0.65  \n",
       "1 month of gym membership in business district         56.2500    131.00  \n",
       "1 package of marlboro cigarettes                        9.0000     32.00  "
      ]
     },
     "execution_count": 12,
     "metadata": {},
     "output_type": "execute_result"
    }
   ],
   "source": [
    "train_features.describe().transpose()"
   ]
  },
  {
   "cell_type": "markdown",
   "metadata": {},
   "source": [
    "# Normalize the features"
   ]
  },
  {
   "cell_type": "code",
   "execution_count": 13,
   "metadata": {},
   "outputs": [
    {
     "name": "stderr",
     "output_type": "stream",
     "text": [
      "2022-02-22 08:54:33.019430: I tensorflow/compiler/mlir/mlir_graph_optimization_pass.cc:185] None of the MLIR Optimization Passes are enabled (registered 2)\n"
     ]
    },
    {
     "name": "stdout",
     "output_type": "stream",
     "text": [
      "[[1.27480469e+01 7.77859354e+00 4.03703117e+00 1.18335938e+00\n",
      "  3.01320314e+00 2.56460929e+00 5.66570282e+00 2.57304668e+00\n",
      "  1.45125008e+00 2.08226585e+00 1.18986721e+01 2.00468731e+00\n",
      "  1.41039062e+00 1.69317969e+03 1.19565625e+03 1.38585938e+02\n",
      "  1.10686719e+03 7.78375000e+02 9.28046875e+01 3.38380470e+01\n",
      "  3.81140625e+02 1.23648430e+02 8.34687424e+00 1.41267185e+01\n",
      "  6.66093750e+01 4.06875000e+01 8.86953125e+01 1.02632805e+02\n",
      "  2.48652500e+04 1.19359374e+00 6.01484337e+01 1.59824209e+01\n",
      "  6.16773462e+00 1.20292969e+01 6.38359337e+01 5.14710903e+00\n",
      "  3.49757791e+00 4.26398420e+00 2.35343742e+00 2.09062481e+00\n",
      "  1.86407814e+01 3.57649231e+01 1.91589832e+01 9.91796875e+01\n",
      "  6.23203087e+01 1.03532028e+01 3.69453120e+00 4.68929672e+00\n",
      "  5.22664062e+02 2.11015612e-01 4.99296875e+01 7.22296858e+00]]\n"
     ]
    }
   ],
   "source": [
    "normalizer = tf.keras.layers.Normalization(axis = -1)\n",
    "normalizer.adapt(np.array(train_features))\n",
    "print(normalizer.mean.numpy())"
   ]
  },
  {
   "cell_type": "code",
   "execution_count": 14,
   "metadata": {},
   "outputs": [
    {
     "name": "stdout",
     "output_type": "stream",
     "text": [
      "First example: [[   11.       6.       3.4      1.59     2.21     1.55     4.97     2.39\n",
      "      2.03     1.65    14.       2.1      1.08  1007.     568.      75.\n",
      "    660.     358.      63.      29.     411.      94.      12.       5.2\n",
      "     68.      46.     111.      94.   16707.       1.05    17.      10.\n",
      "      5.09    11.      37.       7.       4.01     6.       2.58     2.1\n",
      "     12.      26.      11.      27.      55.       7.       3.64     3.44\n",
      "    811.       0.13    57.       3.55]]\n",
      "\n",
      "Normalized: [[-0.31 -0.64 -0.31  0.84 -0.58 -0.65 -0.31 -0.16  0.82 -0.39  0.43  0.14\n",
      "  -0.41 -0.64 -0.78 -0.99 -0.63 -0.81 -0.66 -0.27  0.3  -0.86  1.09 -0.92\n",
      "   0.05  0.55  1.03 -0.22 -0.89 -0.33 -1.21 -0.67 -0.4  -0.15 -0.64  1.06\n",
      "   0.47  1.32  0.19  0.01 -0.65 -0.57 -0.93 -0.94 -0.26 -0.83 -0.04 -0.51\n",
      "   2.86 -0.56  0.34 -0.69]]\n"
     ]
    }
   ],
   "source": [
    "first = np.array(train_features[:1])\n",
    "\n",
    "with np.printoptions(precision=2, suppress=True):\n",
    "    print('First example:', first)\n",
    "    print()\n",
    "    print('Normalized:', normalizer(first).numpy())"
   ]
  },
  {
   "cell_type": "code",
   "execution_count": 15,
   "metadata": {},
   "outputs": [
    {
     "name": "stdout",
     "output_type": "stream",
     "text": [
      "Model: \"sequential\"\n",
      "_________________________________________________________________\n",
      "Layer (type)                 Output Shape              Param #   \n",
      "=================================================================\n",
      "normalization (Normalization (None, 52)                105       \n",
      "_________________________________________________________________\n",
      "dense (Dense)                (None, 1)                 53        \n",
      "=================================================================\n",
      "Total params: 158\n",
      "Trainable params: 53\n",
      "Non-trainable params: 105\n",
      "_________________________________________________________________\n"
     ]
    }
   ],
   "source": [
    "linear_model = tf.keras.Sequential([\n",
    "    normalizer,\n",
    "    layers.Dense(units = 1)\n",
    "])\n",
    "\n",
    "linear_model.summary()"
   ]
  },
  {
   "cell_type": "markdown",
   "metadata": {},
   "source": [
    "# Linear regression with one variable  \n",
    "- Build a model with one variable --> rent"
   ]
  },
  {
   "cell_type": "code",
   "execution_count": 16,
   "metadata": {},
   "outputs": [],
   "source": [
    "rent_col_name = 'Monthly rent for 85 m2 (900 sqft) furnished accommodation in expensive area'\n",
    "rent = np.array(train_features[rent_col_name])\n",
    "\n",
    "rent_normalizer = layers.Normalization(input_shape=[1,], axis = None)\n",
    "rent_normalizer.adapt(rent)"
   ]
  },
  {
   "cell_type": "markdown",
   "metadata": {},
   "source": [
    "# Build the Keras Sequential model"
   ]
  },
  {
   "cell_type": "code",
   "execution_count": 17,
   "metadata": {},
   "outputs": [
    {
     "name": "stdout",
     "output_type": "stream",
     "text": [
      "Model: \"sequential_1\"\n",
      "_________________________________________________________________\n",
      "Layer (type)                 Output Shape              Param #   \n",
      "=================================================================\n",
      "normalization_1 (Normalizati (None, 1)                 3         \n",
      "_________________________________________________________________\n",
      "dense_1 (Dense)              (None, 1)                 2         \n",
      "=================================================================\n",
      "Total params: 5\n",
      "Trainable params: 2\n",
      "Non-trainable params: 3\n",
      "_________________________________________________________________\n"
     ]
    }
   ],
   "source": [
    "rent_model = tf.keras.Sequential([\n",
    "    rent_normalizer,\n",
    "    layers.Dense(units=1)\n",
    "])\n",
    "\n",
    "rent_model.summary()"
   ]
  },
  {
   "cell_type": "code",
   "execution_count": 18,
   "metadata": {},
   "outputs": [],
   "source": [
    "from keras import backend as K\n",
    "\n",
    "def root_mean_squared_error(y_true, y_pred):\n",
    "        return K.sqrt(K.mean(K.square(y_pred - y_true))) \n",
    "    \n",
    "rent_model.compile(\n",
    "    optimizer = tf.optimizers.Adam(learning_rate = 0.1),\n",
    "    loss = root_mean_squared_error)"
   ]
  },
  {
   "cell_type": "code",
   "execution_count": 19,
   "metadata": {},
   "outputs": [
    {
     "name": "stdout",
     "output_type": "stream",
     "text": [
      "CPU times: user 10.6 s, sys: 1.03 s, total: 11.6 s\n",
      "Wall time: 9.93 s\n"
     ]
    }
   ],
   "source": [
    "%%time\n",
    "history = rent_model.fit(\n",
    "    train_features[rent_col_name],\n",
    "    train_labels,\n",
    "    epochs = 400,\n",
    "    # Suppress logging.\n",
    "    verbose=0,\n",
    "    # Calculate validation results on 20% of the training data.\n",
    "    validation_split = 0.2)"
   ]
  },
  {
   "cell_type": "code",
   "execution_count": 20,
   "metadata": {},
   "outputs": [],
   "source": [
    "def plot_loss(history):\n",
    "    plt.plot(history.history['loss'], label='loss')\n",
    "    plt.plot(history.history['val_loss'], label='val_loss')\n",
    "    plt.xlabel('Epoch')\n",
    "    plt.ylabel('Error [Price Index]')\n",
    "    plt.legend()\n",
    "    plt.grid(True)"
   ]
  },
  {
   "cell_type": "code",
   "execution_count": 21,
   "metadata": {},
   "outputs": [
    {
     "data": {
      "image/png": "[encoded data removed]",
      "text/plain": [
       "<Figure size 432x288 with 1 Axes>"
      ]
     },
     "metadata": {
      "needs_background": "light"
     },
     "output_type": "display_data"
    }
   ],
   "source": [
    "plot_loss(history)"
   ]
  },
  {
   "cell_type": "markdown",
   "metadata": {},
   "source": [
    "# Save results in a dictionary"
   ]
  },
  {
   "cell_type": "code",
   "execution_count": 22,
   "metadata": {},
   "outputs": [],
   "source": [
    "test_results = {}\n",
    "\n",
    "test_results['rent_model'] = rent_model.evaluate(\n",
    "    test_features[rent_col_name],\n",
    "    test_labels, verbose = 0)"
   ]
  },
  {
   "cell_type": "markdown",
   "metadata": {},
   "source": [
    "# View the models prediction as a function of the input"
   ]
  },
  {
   "cell_type": "code",
   "execution_count": 23,
   "metadata": {},
   "outputs": [],
   "source": [
    "min_rent = df[rent_col_name].min()\n",
    "max_rent = df[rent_col_name].max()\n",
    "num_steps = max_rent - min_rent + 1\n",
    "\n",
    "x = tf.linspace(min_rent, max_rent, num_steps)\n",
    "y = rent_model.predict(x)"
   ]
  },
  {
   "cell_type": "code",
   "execution_count": 24,
   "metadata": {},
   "outputs": [],
   "source": [
    "def plot_rent(x, y):\n",
    "    plt.scatter(train_features[rent_col_name], train_labels, label = 'Data')\n",
    "    plt.plot(x, y, color = 'k', label = 'Predictions')\n",
    "    plt.xlabel('Rent')\n",
    "    plt.ylabel('Price Index')\n",
    "    plt.legend()"
   ]
  },
  {
   "cell_type": "code",
   "execution_count": 25,
   "metadata": {},
   "outputs": [
    {
     "data": {
      "image/png": "[encoded data removed]",
      "text/plain": [
       "<Figure size 432x288 with 1 Axes>"
      ]
     },
     "metadata": {
      "needs_background": "light"
     },
     "output_type": "display_data"
    }
   ],
   "source": [
    "plot_rent(x, y)"
   ]
  },
  {
   "cell_type": "markdown",
   "metadata": {},
   "source": [
    "# Linear regression with multiple inputs"
   ]
  },
  {
   "cell_type": "code",
   "execution_count": 26,
   "metadata": {},
   "outputs": [
    {
     "name": "stdout",
     "output_type": "stream",
     "text": [
      "Model: \"sequential_2\"\n",
      "_________________________________________________________________\n",
      "Layer (type)                 Output Shape              Param #   \n",
      "=================================================================\n",
      "normalization (Normalization (None, 52)                105       \n",
      "_________________________________________________________________\n",
      "dense_2 (Dense)              (None, 1)                 53        \n",
      "=================================================================\n",
      "Total params: 158\n",
      "Trainable params: 53\n",
      "Non-trainable params: 105\n",
      "_________________________________________________________________\n"
     ]
    }
   ],
   "source": [
    "linear_model = tf.keras.Sequential([\n",
    "    normalizer,\n",
    "    layers.Dense(units=1)\n",
    "])\n",
    "\n",
    "linear_model.compile(\n",
    "    optimizer = tf.optimizers.Adam(learning_rate = 0.1),\n",
    "    loss = root_mean_squared_error)\n",
    "\n",
    "linear_model.summary()"
   ]
  },
  {
   "cell_type": "code",
   "execution_count": 27,
   "metadata": {},
   "outputs": [
    {
     "name": "stdout",
     "output_type": "stream",
     "text": [
      "CPU times: user 20.7 s, sys: 2.07 s, total: 22.7 s\n",
      "Wall time: 19 s\n"
     ]
    }
   ],
   "source": [
    "%%time\n",
    "history = linear_model.fit(\n",
    "    train_features,\n",
    "    train_labels,\n",
    "    epochs = 800,\n",
    "    # Suppress logging.\n",
    "    verbose = 0,\n",
    "    # Calculate validation results on 20% of the training data.\n",
    "    validation_split = 0.2)"
   ]
  },
  {
   "cell_type": "code",
   "execution_count": 28,
   "metadata": {},
   "outputs": [
    {
     "data": {
      "image/png": "[encoded data removed]",
      "text/plain": [
       "<Figure size 432x288 with 1 Axes>"
      ]
     },
     "metadata": {
      "needs_background": "light"
     },
     "output_type": "display_data"
    }
   ],
   "source": [
    "plot_loss(history)"
   ]
  },
  {
   "cell_type": "markdown",
   "metadata": {},
   "source": [
    "# Save results in a dataframe"
   ]
  },
  {
   "cell_type": "code",
   "execution_count": 29,
   "metadata": {},
   "outputs": [],
   "source": [
    "test_results['linear_model'] = linear_model.evaluate(\n",
    "    test_features, test_labels, verbose = 0)"
   ]
  },
  {
   "cell_type": "markdown",
   "metadata": {},
   "source": [
    "# Deep Neural Networks (DNN) for regression"
   ]
  },
  {
   "cell_type": "code",
   "execution_count": 30,
   "metadata": {},
   "outputs": [],
   "source": [
    "def build_and_compile_model(norm):\n",
    "    model = keras.Sequential([\n",
    "      norm,\n",
    "      layers.Dense(64, activation='relu'),\n",
    "      layers.Dense(64, activation='relu'),\n",
    "      layers.Dense(64, activation='relu'),\n",
    "      layers.Dense(1)\n",
    "    ])\n",
    "\n",
    "    model.compile(loss = root_mean_squared_error,\n",
    "                optimizer = tf.keras.optimizers.Adam(0.001))\n",
    "    return model"
   ]
  },
  {
   "cell_type": "markdown",
   "metadata": {},
   "source": [
    "# Regression using DNN and a single input"
   ]
  },
  {
   "cell_type": "code",
   "execution_count": 31,
   "metadata": {},
   "outputs": [],
   "source": [
    "rent_col_name = 'Monthly rent for 85 m2 (900 sqft) furnished accommodation in expensive area'\n",
    "rent = np.array(train_features[rent_col_name])\n",
    "\n",
    "rent_normalizer = layers.Normalization(input_shape = [1,], axis = None)\n",
    "rent_normalizer.adapt(rent)"
   ]
  },
  {
   "cell_type": "code",
   "execution_count": 32,
   "metadata": {},
   "outputs": [
    {
     "name": "stdout",
     "output_type": "stream",
     "text": [
      "Model: \"sequential_3\"\n",
      "_________________________________________________________________\n",
      "Layer (type)                 Output Shape              Param #   \n",
      "=================================================================\n",
      "normalization_2 (Normalizati (None, 1)                 3         \n",
      "_________________________________________________________________\n",
      "dense_3 (Dense)              (None, 64)                128       \n",
      "_________________________________________________________________\n",
      "dense_4 (Dense)              (None, 64)                4160      \n",
      "_________________________________________________________________\n",
      "dense_5 (Dense)              (None, 64)                4160      \n",
      "_________________________________________________________________\n",
      "dense_6 (Dense)              (None, 1)                 65        \n",
      "=================================================================\n",
      "Total params: 8,516\n",
      "Trainable params: 8,513\n",
      "Non-trainable params: 3\n",
      "_________________________________________________________________\n"
     ]
    }
   ],
   "source": [
    "dnn_rent_model = build_and_compile_model(rent_normalizer)\n",
    "dnn_rent_model.summary()"
   ]
  },
  {
   "cell_type": "code",
   "execution_count": 33,
   "metadata": {},
   "outputs": [
    {
     "name": "stdout",
     "output_type": "stream",
     "text": [
      "CPU times: user 6.48 s, sys: 808 ms, total: 7.29 s\n",
      "Wall time: 5.68 s\n"
     ]
    }
   ],
   "source": [
    "%%time\n",
    "dnn_rent_model = build_and_compile_model(rent_normalizer)\n",
    "history = dnn_rent_model.fit(\n",
    "    train_features[rent_col_name],\n",
    "    train_labels,\n",
    "    validation_split = 0.2,\n",
    "    verbose = 0, epochs = 200)"
   ]
  },
  {
   "cell_type": "code",
   "execution_count": 34,
   "metadata": {},
   "outputs": [
    {
     "data": {
      "image/png": "[encoded data removed]",
      "text/plain": [
       "<Figure size 432x288 with 1 Axes>"
      ]
     },
     "metadata": {
      "needs_background": "light"
     },
     "output_type": "display_data"
    }
   ],
   "source": [
    "plot_loss(history)"
   ]
  },
  {
   "cell_type": "markdown",
   "metadata": {},
   "source": [
    "# View the models prediction as a function of the input"
   ]
  },
  {
   "cell_type": "code",
   "execution_count": 35,
   "metadata": {},
   "outputs": [],
   "source": [
    "min_rent = df[rent_col_name].min()\n",
    "max_rent = df[rent_col_name].max()\n",
    "num_steps = max_rent - min_rent + 1\n",
    "\n",
    "x = tf.linspace(min_rent, max_rent, num_steps)\n",
    "y = dnn_rent_model.predict(x)"
   ]
  },
  {
   "cell_type": "code",
   "execution_count": 36,
   "metadata": {},
   "outputs": [
    {
     "data": {
      "image/png": "[encoded data removed]",
      "text/plain": [
       "<Figure size 432x288 with 1 Axes>"
      ]
     },
     "metadata": {
      "needs_background": "light"
     },
     "output_type": "display_data"
    }
   ],
   "source": [
    "plot_rent(x, y)"
   ]
  },
  {
   "cell_type": "code",
   "execution_count": 37,
   "metadata": {},
   "outputs": [],
   "source": [
    "test_results['dnn_rent_model'] = dnn_rent_model.evaluate(\n",
    "    test_features[rent_col_name], test_labels,\n",
    "    verbose = 0)"
   ]
  },
  {
   "cell_type": "markdown",
   "metadata": {},
   "source": [
    "# Regression using a DNN and three inputs\n",
    "- fast food \n",
    "- rent  \n",
    "- transit ticket  "
   ]
  },
  {
   "cell_type": "code",
   "execution_count": 38,
   "metadata": {
    "scrolled": true
   },
   "outputs": [],
   "source": [
    "fast_food_col_name = 'Combo meal in fast food restaurant (big mac meal or similar)'\n",
    "rent_col_name = 'Monthly rent for 85 m2 (900 sqft) furnished accommodation in expensive area'\n",
    "transit_col_name = 'Monthly ticket public transport'\n",
    "\n",
    "three_features = [fast_food_col_name, rent_col_name, transit_col_name]"
   ]
  },
  {
   "cell_type": "code",
   "execution_count": 39,
   "metadata": {},
   "outputs": [],
   "source": [
    "features_lst = list(train_features.columns)\n",
    "fast_food_idx = features_lst.index(fast_food_col_name)\n",
    "rent_idx = features_lst.index(rent_col_name)\n",
    "transit_idx = features_lst.index(transit_col_name)"
   ]
  },
  {
   "cell_type": "code",
   "execution_count": 40,
   "metadata": {},
   "outputs": [
    {
     "name": "stdout",
     "output_type": "stream",
     "text": [
      "[[   7.7785935 1693.1797      60.148434 ]]\n"
     ]
    }
   ],
   "source": [
    "train_three_features = train_df[three_features].copy()\n",
    "test_three_features = test_df[three_features].copy()\n",
    "\n",
    "normalizer_three_features = tf.keras.layers.Normalization(axis = -1)\n",
    "normalizer_three_features.adapt(np.array(train_three_features))\n",
    "print(normalizer_three_features.mean.numpy())"
   ]
  },
  {
   "cell_type": "code",
   "execution_count": 41,
   "metadata": {},
   "outputs": [
    {
     "name": "stdout",
     "output_type": "stream",
     "text": [
      "Model: \"sequential_5\"\n",
      "_________________________________________________________________\n",
      "Layer (type)                 Output Shape              Param #   \n",
      "=================================================================\n",
      "normalization_3 (Normalizati (None, 3)                 7         \n",
      "_________________________________________________________________\n",
      "dense_11 (Dense)             (None, 64)                256       \n",
      "_________________________________________________________________\n",
      "dense_12 (Dense)             (None, 64)                4160      \n",
      "_________________________________________________________________\n",
      "dense_13 (Dense)             (None, 64)                4160      \n",
      "_________________________________________________________________\n",
      "dense_14 (Dense)             (None, 1)                 65        \n",
      "=================================================================\n",
      "Total params: 8,648\n",
      "Trainable params: 8,641\n",
      "Non-trainable params: 7\n",
      "_________________________________________________________________\n"
     ]
    }
   ],
   "source": [
    "dnn_three_feature_model = build_and_compile_model(normalizer_three_features)\n",
    "dnn_three_feature_model.summary()"
   ]
  },
  {
   "cell_type": "code",
   "execution_count": 42,
   "metadata": {},
   "outputs": [
    {
     "name": "stdout",
     "output_type": "stream",
     "text": [
      "CPU times: user 13.2 s, sys: 1.63 s, total: 14.8 s\n",
      "Wall time: 11.6 s\n"
     ]
    }
   ],
   "source": [
    "%%time\n",
    "history = dnn_three_feature_model.fit(\n",
    "    train_features[three_features],\n",
    "    train_labels,\n",
    "    validation_split = 0.2,\n",
    "    verbose = 0, epochs = 400)"
   ]
  },
  {
   "cell_type": "code",
   "execution_count": 43,
   "metadata": {},
   "outputs": [
    {
     "data": {
      "image/png": "[encoded data removed]",
      "text/plain": [
       "<Figure size 432x288 with 1 Axes>"
      ]
     },
     "metadata": {
      "needs_background": "light"
     },
     "output_type": "display_data"
    }
   ],
   "source": [
    "plot_loss(history)"
   ]
  },
  {
   "cell_type": "code",
   "execution_count": 44,
   "metadata": {},
   "outputs": [],
   "source": [
    "test_results['dnn_three_features_model'] = (\n",
    "    dnn_three_feature_model.evaluate(test_three_features, test_labels, verbose = 0))"
   ]
  },
  {
   "cell_type": "markdown",
   "metadata": {},
   "source": [
    "# Regression using a DNN and all inputs"
   ]
  },
  {
   "cell_type": "code",
   "execution_count": 45,
   "metadata": {},
   "outputs": [
    {
     "name": "stdout",
     "output_type": "stream",
     "text": [
      "Model: \"sequential_6\"\n",
      "_________________________________________________________________\n",
      "Layer (type)                 Output Shape              Param #   \n",
      "=================================================================\n",
      "normalization (Normalization (None, 52)                105       \n",
      "_________________________________________________________________\n",
      "dense_15 (Dense)             (None, 64)                3392      \n",
      "_________________________________________________________________\n",
      "dense_16 (Dense)             (None, 64)                4160      \n",
      "_________________________________________________________________\n",
      "dense_17 (Dense)             (None, 64)                4160      \n",
      "_________________________________________________________________\n",
      "dense_18 (Dense)             (None, 1)                 65        \n",
      "=================================================================\n",
      "Total params: 11,882\n",
      "Trainable params: 11,777\n",
      "Non-trainable params: 105\n",
      "_________________________________________________________________\n"
     ]
    }
   ],
   "source": [
    "dnn_model = build_and_compile_model(normalizer)\n",
    "dnn_model.summary()"
   ]
  },
  {
   "cell_type": "code",
   "execution_count": 46,
   "metadata": {},
   "outputs": [
    {
     "name": "stdout",
     "output_type": "stream",
     "text": [
      "CPU times: user 12.9 s, sys: 1.72 s, total: 14.6 s\n",
      "Wall time: 11.2 s\n"
     ]
    }
   ],
   "source": [
    "%%time\n",
    "history = dnn_model.fit(\n",
    "    train_features,\n",
    "    train_labels,\n",
    "    validation_split = 0.2,\n",
    "    verbose = 0, epochs = 400)"
   ]
  },
  {
   "cell_type": "code",
   "execution_count": 47,
   "metadata": {},
   "outputs": [
    {
     "data": {
      "image/png": "[encoded data removed]",
      "text/plain": [
       "<Figure size 432x288 with 1 Axes>"
      ]
     },
     "metadata": {
      "needs_background": "light"
     },
     "output_type": "display_data"
    }
   ],
   "source": [
    "plot_loss(history)"
   ]
  },
  {
   "cell_type": "code",
   "execution_count": 48,
   "metadata": {},
   "outputs": [],
   "source": [
    "test_results['dnn_model'] = dnn_model.evaluate(test_features, test_labels, verbose = 0)"
   ]
  },
  {
   "cell_type": "code",
   "execution_count": 49,
   "metadata": {},
   "outputs": [
    {
     "data": {
      "text/html": [
       "<div>\n",
       "<style scoped>\n",
       "    .dataframe tbody tr th:only-of-type {\n",
       "        vertical-align: middle;\n",
       "    }\n",
       "\n",
       "    .dataframe tbody tr th {\n",
       "        vertical-align: top;\n",
       "    }\n",
       "\n",
       "    .dataframe thead th {\n",
       "        text-align: right;\n",
       "    }\n",
       "</style>\n",
       "<table border=\"1\" class=\"dataframe\">\n",
       "  <thead>\n",
       "    <tr style=\"text-align: right;\">\n",
       "      <th></th>\n",
       "      <th>Root Mean Squared Error (Price Index)</th>\n",
       "    </tr>\n",
       "  </thead>\n",
       "  <tbody>\n",
       "    <tr>\n",
       "      <th>rent_model</th>\n",
       "      <td>17.394199</td>\n",
       "    </tr>\n",
       "    <tr>\n",
       "      <th>linear_model</th>\n",
       "      <td>0.751028</td>\n",
       "    </tr>\n",
       "    <tr>\n",
       "      <th>dnn_rent_model</th>\n",
       "      <td>15.944875</td>\n",
       "    </tr>\n",
       "    <tr>\n",
       "      <th>dnn_three_features_model</th>\n",
       "      <td>10.174789</td>\n",
       "    </tr>\n",
       "    <tr>\n",
       "      <th>dnn_model</th>\n",
       "      <td>18.397362</td>\n",
       "    </tr>\n",
       "  </tbody>\n",
       "</table>\n",
       "</div>"
      ],
      "text/plain": [
       "                          Root Mean Squared Error (Price Index)\n",
       "rent_model                                            17.394199\n",
       "linear_model                                           0.751028\n",
       "dnn_rent_model                                        15.944875\n",
       "dnn_three_features_model                              10.174789\n",
       "dnn_model                                             18.397362"
      ]
     },
     "execution_count": 49,
     "metadata": {},
     "output_type": "execute_result"
    }
   ],
   "source": [
    "results_df = pd.DataFrame(test_results, index  =['Root Mean Squared Error (Price Index)']).T\n",
    "results_df"
   ]
  },
  {
   "cell_type": "markdown",
   "metadata": {},
   "source": [
    "# Make Predictions"
   ]
  },
  {
   "cell_type": "code",
   "execution_count": 50,
   "metadata": {},
   "outputs": [
    {
     "data": {
      "image/png": "[encoded data removed]",
      "text/plain": [
       "<Figure size 432x288 with 1 Axes>"
      ]
     },
     "metadata": {
      "needs_background": "light"
     },
     "output_type": "display_data"
    }
   ],
   "source": [
    "# linear rent model\n",
    "test_predictions = rent_model.predict(test_features[rent_col_name]).flatten()\n",
    "\n",
    "a = plt.axes(aspect = 'equal')\n",
    "plt.scatter(test_labels, test_predictions)\n",
    "plt.xlabel('True Values (Price Index)')\n",
    "plt.ylabel('Predictions (Price Index)')\n",
    "lims = [30, 260]\n",
    "plt.xlim(lims)\n",
    "plt.ylim(lims)\n",
    "_ = plt.plot(lims, lims)"
   ]
  },
  {
   "cell_type": "code",
   "execution_count": 51,
   "metadata": {},
   "outputs": [
    {
     "data": {
      "image/png": "[encoded data removed]",
      "text/plain": [
       "<Figure size 432x288 with 1 Axes>"
      ]
     },
     "metadata": {
      "needs_background": "light"
     },
     "output_type": "display_data"
    }
   ],
   "source": [
    "# linear model all features\n",
    "test_predictions = linear_model.predict(test_features).flatten()\n",
    "\n",
    "a = plt.axes(aspect = 'equal')\n",
    "plt.scatter(test_labels, test_predictions)\n",
    "plt.xlabel('True Values (Price Index)')\n",
    "plt.ylabel('Predictions (Price Index)')\n",
    "lims = [30, 260]\n",
    "plt.xlim(lims)\n",
    "plt.ylim(lims)\n",
    "_ = plt.plot(lims, lims)"
   ]
  },
  {
   "cell_type": "code",
   "execution_count": 52,
   "metadata": {},
   "outputs": [
    {
     "data": {
      "image/png": "[encoded data removed]",
      "text/plain": [
       "<Figure size 432x288 with 1 Axes>"
      ]
     },
     "metadata": {
      "needs_background": "light"
     },
     "output_type": "display_data"
    }
   ],
   "source": [
    "# dnn rent model\n",
    "test_predictions = dnn_rent_model.predict(test_features[rent_col_name]).flatten()\n",
    "\n",
    "a = plt.axes(aspect = 'equal')\n",
    "plt.scatter(test_labels, test_predictions)\n",
    "plt.xlabel('True Values (Price Index)')\n",
    "plt.ylabel('Predictions (Price Index)')\n",
    "lims = [30, 260]\n",
    "plt.xlim(lims)\n",
    "plt.ylim(lims)\n",
    "_ = plt.plot(lims, lims)"
   ]
  },
  {
   "cell_type": "code",
   "execution_count": 53,
   "metadata": {},
   "outputs": [
    {
     "name": "stdout",
     "output_type": "stream",
     "text": [
      "WARNING:tensorflow:5 out of the last 189 calls to <function Model.make_predict_function.<locals>.predict_function at 0x14616ad40> triggered tf.function retracing. Tracing is expensive and the excessive number of tracings could be due to (1) creating @tf.function repeatedly in a loop, (2) passing tensors with different shapes, (3) passing Python objects instead of tensors. For (1), please define your @tf.function outside of the loop. For (2), @tf.function has experimental_relax_shapes=True option that relaxes argument shapes that can avoid unnecessary retracing. For (3), please refer to https://www.tensorflow.org/guide/function#controlling_retracing and https://www.tensorflow.org/api_docs/python/tf/function for  more details.\n"
     ]
    },
    {
     "data": {
      "image/png": "[encoded data removed]",
      "text/plain": [
       "<Figure size 432x288 with 1 Axes>"
      ]
     },
     "metadata": {
      "needs_background": "light"
     },
     "output_type": "display_data"
    }
   ],
   "source": [
    "# dnn three features\n",
    "test_predictions = dnn_three_feature_model.predict(test_features[three_features]).flatten()\n",
    "\n",
    "a = plt.axes(aspect = 'equal')\n",
    "plt.scatter(test_labels, test_predictions)\n",
    "plt.xlabel('True Values (Price Index)')\n",
    "plt.ylabel('Predictions (Price Index)')\n",
    "lims = [30, 260]\n",
    "plt.xlim(lims)\n",
    "plt.ylim(lims)\n",
    "_ = plt.plot(lims, lims)"
   ]
  },
  {
   "cell_type": "code",
   "execution_count": 54,
   "metadata": {},
   "outputs": [
    {
     "name": "stdout",
     "output_type": "stream",
     "text": [
      "WARNING:tensorflow:6 out of the last 190 calls to <function Model.make_predict_function.<locals>.predict_function at 0x1465d4050> triggered tf.function retracing. Tracing is expensive and the excessive number of tracings could be due to (1) creating @tf.function repeatedly in a loop, (2) passing tensors with different shapes, (3) passing Python objects instead of tensors. For (1), please define your @tf.function outside of the loop. For (2), @tf.function has experimental_relax_shapes=True option that relaxes argument shapes that can avoid unnecessary retracing. For (3), please refer to https://www.tensorflow.org/guide/function#controlling_retracing and https://www.tensorflow.org/api_docs/python/tf/function for  more details.\n"
     ]
    },
    {
     "data": {
      "image/png": "[encoded data removed]",
      "text/plain": [
       "<Figure size 432x288 with 1 Axes>"
      ]
     },
     "metadata": {
      "needs_background": "light"
     },
     "output_type": "display_data"
    }
   ],
   "source": [
    "# dnn model all features\n",
    "test_predictions = dnn_model.predict(test_features).flatten()\n",
    "\n",
    "a = plt.axes(aspect = 'equal')\n",
    "plt.scatter(test_labels, test_predictions)\n",
    "plt.xlabel('True Values (Price Index)')\n",
    "plt.ylabel('Predictions (Price Index)')\n",
    "lims = [30, 260]\n",
    "plt.xlim(lims)\n",
    "plt.ylim(lims)\n",
    "_ = plt.plot(lims, lims)"
   ]
  },
  {
   "cell_type": "code",
   "execution_count": 55,
   "metadata": {},
   "outputs": [
    {
     "name": "stderr",
     "output_type": "stream",
     "text": [
      "2022-02-22 08:55:37.707636: W tensorflow/python/util/util.cc:348] Sets are not currently considered sequences, but this may change in the future, so consider avoiding using them.\n"
     ]
    },
    {
     "name": "stdout",
     "output_type": "stream",
     "text": [
      "INFO:tensorflow:Assets written to: dnn_three_feature_model/assets\n"
     ]
    }
   ],
   "source": [
    "dnn_three_feature_model.save('dnn_three_feature_model')"
   ]
  },
  {
   "cell_type": "code",
   "execution_count": 56,
   "metadata": {},
   "outputs": [],
   "source": [
    "from keras import backend as K\n",
    "\n",
    "def root_mean_squared_error(y_true, y_pred):\n",
    "        return K.sqrt(K.mean(K.square(y_pred - y_true))) \n",
    "\n",
    "reloaded = tf.keras.models.load_model('dnn_three_feature_model'\n",
    "    , custom_objects = {'root_mean_squared_error': root_mean_squared_error})\n",
    "\n",
    "test_results['reloaded'] = reloaded.evaluate(\n",
    "    test_features[three_features], test_labels, verbose = 0)"
   ]
  },
  {
   "cell_type": "code",
   "execution_count": 57,
   "metadata": {},
   "outputs": [
    {
     "data": {
      "text/html": [
       "<div>\n",
       "<style scoped>\n",
       "    .dataframe tbody tr th:only-of-type {\n",
       "        vertical-align: middle;\n",
       "    }\n",
       "\n",
       "    .dataframe tbody tr th {\n",
       "        vertical-align: top;\n",
       "    }\n",
       "\n",
       "    .dataframe thead th {\n",
       "        text-align: right;\n",
       "    }\n",
       "</style>\n",
       "<table border=\"1\" class=\"dataframe\">\n",
       "  <thead>\n",
       "    <tr style=\"text-align: right;\">\n",
       "      <th></th>\n",
       "      <th>Root Mean Squared Error (Price Index)</th>\n",
       "    </tr>\n",
       "  </thead>\n",
       "  <tbody>\n",
       "    <tr>\n",
       "      <th>rent_model</th>\n",
       "      <td>17.394199</td>\n",
       "    </tr>\n",
       "    <tr>\n",
       "      <th>linear_model</th>\n",
       "      <td>0.751028</td>\n",
       "    </tr>\n",
       "    <tr>\n",
       "      <th>dnn_rent_model</th>\n",
       "      <td>15.944875</td>\n",
       "    </tr>\n",
       "    <tr>\n",
       "      <th>dnn_three_features_model</th>\n",
       "      <td>10.174789</td>\n",
       "    </tr>\n",
       "    <tr>\n",
       "      <th>dnn_model</th>\n",
       "      <td>18.397362</td>\n",
       "    </tr>\n",
       "    <tr>\n",
       "      <th>reloaded</th>\n",
       "      <td>10.174789</td>\n",
       "    </tr>\n",
       "  </tbody>\n",
       "</table>\n",
       "</div>"
      ],
      "text/plain": [
       "                          Root Mean Squared Error (Price Index)\n",
       "rent_model                                            17.394199\n",
       "linear_model                                           0.751028\n",
       "dnn_rent_model                                        15.944875\n",
       "dnn_three_features_model                              10.174789\n",
       "dnn_model                                             18.397362\n",
       "reloaded                                              10.174789"
      ]
     },
     "execution_count": 57,
     "metadata": {},
     "output_type": "execute_result"
    }
   ],
   "source": [
    "results_df = pd.DataFrame(test_results, index=['Root Mean Squared Error (Price Index)']).T\n",
    "results_df"
   ]
  },
  {
   "cell_type": "code",
   "execution_count": 58,
   "metadata": {},
   "outputs": [
    {
     "data": {
      "text/html": [
       "<div>\n",
       "<style scoped>\n",
       "    .dataframe tbody tr th:only-of-type {\n",
       "        vertical-align: middle;\n",
       "    }\n",
       "\n",
       "    .dataframe tbody tr th {\n",
       "        vertical-align: top;\n",
       "    }\n",
       "\n",
       "    .dataframe thead th {\n",
       "        text-align: right;\n",
       "    }\n",
       "</style>\n",
       "<table border=\"1\" class=\"dataframe\">\n",
       "  <thead>\n",
       "    <tr style=\"text-align: right;\">\n",
       "      <th></th>\n",
       "      <th>Combo meal in fast food restaurant (big mac meal or similar)</th>\n",
       "      <th>Monthly rent for 85 m2 (900 sqft) furnished accommodation in expensive area</th>\n",
       "      <th>Monthly ticket public transport</th>\n",
       "    </tr>\n",
       "  </thead>\n",
       "  <tbody>\n",
       "    <tr>\n",
       "      <th>9</th>\n",
       "      <td>9.00</td>\n",
       "      <td>2904.0</td>\n",
       "      <td>91</td>\n",
       "    </tr>\n",
       "    <tr>\n",
       "      <th>21</th>\n",
       "      <td>12.00</td>\n",
       "      <td>3337.0</td>\n",
       "      <td>87</td>\n",
       "    </tr>\n",
       "    <tr>\n",
       "      <th>25</th>\n",
       "      <td>11.00</td>\n",
       "      <td>2689.0</td>\n",
       "      <td>97</td>\n",
       "    </tr>\n",
       "    <tr>\n",
       "      <th>28</th>\n",
       "      <td>8.00</td>\n",
       "      <td>2582.0</td>\n",
       "      <td>96</td>\n",
       "    </tr>\n",
       "    <tr>\n",
       "      <th>29</th>\n",
       "      <td>8.00</td>\n",
       "      <td>2356.0</td>\n",
       "      <td>105</td>\n",
       "    </tr>\n",
       "    <tr>\n",
       "      <th>31</th>\n",
       "      <td>9.00</td>\n",
       "      <td>2281.0</td>\n",
       "      <td>104</td>\n",
       "    </tr>\n",
       "    <tr>\n",
       "      <th>32</th>\n",
       "      <td>9.00</td>\n",
       "      <td>2183.0</td>\n",
       "      <td>111</td>\n",
       "    </tr>\n",
       "    <tr>\n",
       "      <th>36</th>\n",
       "      <td>7.00</td>\n",
       "      <td>3175.0</td>\n",
       "      <td>40</td>\n",
       "    </tr>\n",
       "    <tr>\n",
       "      <th>39</th>\n",
       "      <td>9.00</td>\n",
       "      <td>2250.0</td>\n",
       "      <td>108</td>\n",
       "    </tr>\n",
       "    <tr>\n",
       "      <th>47</th>\n",
       "      <td>9.00</td>\n",
       "      <td>2693.0</td>\n",
       "      <td>70</td>\n",
       "    </tr>\n",
       "    <tr>\n",
       "      <th>58</th>\n",
       "      <td>8.00</td>\n",
       "      <td>1988.0</td>\n",
       "      <td>94</td>\n",
       "    </tr>\n",
       "    <tr>\n",
       "      <th>67</th>\n",
       "      <td>9.00</td>\n",
       "      <td>1561.0</td>\n",
       "      <td>76</td>\n",
       "    </tr>\n",
       "    <tr>\n",
       "      <th>70</th>\n",
       "      <td>8.00</td>\n",
       "      <td>2044.0</td>\n",
       "      <td>57</td>\n",
       "    </tr>\n",
       "    <tr>\n",
       "      <th>72</th>\n",
       "      <td>8.00</td>\n",
       "      <td>1595.0</td>\n",
       "      <td>58</td>\n",
       "    </tr>\n",
       "    <tr>\n",
       "      <th>77</th>\n",
       "      <td>6.00</td>\n",
       "      <td>3020.0</td>\n",
       "      <td>35</td>\n",
       "    </tr>\n",
       "    <tr>\n",
       "      <th>79</th>\n",
       "      <td>8.00</td>\n",
       "      <td>1946.0</td>\n",
       "      <td>36</td>\n",
       "    </tr>\n",
       "    <tr>\n",
       "      <th>81</th>\n",
       "      <td>8.00</td>\n",
       "      <td>1538.0</td>\n",
       "      <td>30</td>\n",
       "    </tr>\n",
       "    <tr>\n",
       "      <th>82</th>\n",
       "      <td>9.00</td>\n",
       "      <td>1608.0</td>\n",
       "      <td>60</td>\n",
       "    </tr>\n",
       "    <tr>\n",
       "      <th>87</th>\n",
       "      <td>5.22</td>\n",
       "      <td>1698.0</td>\n",
       "      <td>46</td>\n",
       "    </tr>\n",
       "    <tr>\n",
       "      <th>88</th>\n",
       "      <td>7.00</td>\n",
       "      <td>1196.0</td>\n",
       "      <td>35</td>\n",
       "    </tr>\n",
       "    <tr>\n",
       "      <th>99</th>\n",
       "      <td>9.00</td>\n",
       "      <td>1070.0</td>\n",
       "      <td>37</td>\n",
       "    </tr>\n",
       "    <tr>\n",
       "      <th>103</th>\n",
       "      <td>4.18</td>\n",
       "      <td>932.0</td>\n",
       "      <td>69</td>\n",
       "    </tr>\n",
       "    <tr>\n",
       "      <th>115</th>\n",
       "      <td>8.00</td>\n",
       "      <td>1102.0</td>\n",
       "      <td>45</td>\n",
       "    </tr>\n",
       "    <tr>\n",
       "      <th>116</th>\n",
       "      <td>7.00</td>\n",
       "      <td>1036.0</td>\n",
       "      <td>42</td>\n",
       "    </tr>\n",
       "    <tr>\n",
       "      <th>118</th>\n",
       "      <td>5.67</td>\n",
       "      <td>925.0</td>\n",
       "      <td>31</td>\n",
       "    </tr>\n",
       "    <tr>\n",
       "      <th>128</th>\n",
       "      <td>4.89</td>\n",
       "      <td>701.0</td>\n",
       "      <td>46</td>\n",
       "    </tr>\n",
       "    <tr>\n",
       "      <th>135</th>\n",
       "      <td>4.56</td>\n",
       "      <td>1105.0</td>\n",
       "      <td>13</td>\n",
       "    </tr>\n",
       "    <tr>\n",
       "      <th>141</th>\n",
       "      <td>5.58</td>\n",
       "      <td>449.0</td>\n",
       "      <td>42</td>\n",
       "    </tr>\n",
       "    <tr>\n",
       "      <th>150</th>\n",
       "      <td>5.52</td>\n",
       "      <td>497.0</td>\n",
       "      <td>13</td>\n",
       "    </tr>\n",
       "    <tr>\n",
       "      <th>151</th>\n",
       "      <td>4.44</td>\n",
       "      <td>518.0</td>\n",
       "      <td>28</td>\n",
       "    </tr>\n",
       "    <tr>\n",
       "      <th>153</th>\n",
       "      <td>4.10</td>\n",
       "      <td>620.0</td>\n",
       "      <td>13</td>\n",
       "    </tr>\n",
       "    <tr>\n",
       "      <th>156</th>\n",
       "      <td>4.81</td>\n",
       "      <td>422.0</td>\n",
       "      <td>34</td>\n",
       "    </tr>\n",
       "  </tbody>\n",
       "</table>\n",
       "</div>"
      ],
      "text/plain": [
       "     Combo meal in fast food restaurant (big mac meal or similar)  \\\n",
       "9                                                 9.00              \n",
       "21                                               12.00              \n",
       "25                                               11.00              \n",
       "28                                                8.00              \n",
       "29                                                8.00              \n",
       "31                                                9.00              \n",
       "32                                                9.00              \n",
       "36                                                7.00              \n",
       "39                                                9.00              \n",
       "47                                                9.00              \n",
       "58                                                8.00              \n",
       "67                                                9.00              \n",
       "70                                                8.00              \n",
       "72                                                8.00              \n",
       "77                                                6.00              \n",
       "79                                                8.00              \n",
       "81                                                8.00              \n",
       "82                                                9.00              \n",
       "87                                                5.22              \n",
       "88                                                7.00              \n",
       "99                                                9.00              \n",
       "103                                               4.18              \n",
       "115                                               8.00              \n",
       "116                                               7.00              \n",
       "118                                               5.67              \n",
       "128                                               4.89              \n",
       "135                                               4.56              \n",
       "141                                               5.58              \n",
       "150                                               5.52              \n",
       "151                                               4.44              \n",
       "153                                               4.10              \n",
       "156                                               4.81              \n",
       "\n",
       "     Monthly rent for 85 m2 (900 sqft) furnished accommodation in expensive area  \\\n",
       "9                                               2904.0                             \n",
       "21                                              3337.0                             \n",
       "25                                              2689.0                             \n",
       "28                                              2582.0                             \n",
       "29                                              2356.0                             \n",
       "31                                              2281.0                             \n",
       "32                                              2183.0                             \n",
       "36                                              3175.0                             \n",
       "39                                              2250.0                             \n",
       "47                                              2693.0                             \n",
       "58                                              1988.0                             \n",
       "67                                              1561.0                             \n",
       "70                                              2044.0                             \n",
       "72                                              1595.0                             \n",
       "77                                              3020.0                             \n",
       "79                                              1946.0                             \n",
       "81                                              1538.0                             \n",
       "82                                              1608.0                             \n",
       "87                                              1698.0                             \n",
       "88                                              1196.0                             \n",
       "99                                              1070.0                             \n",
       "103                                              932.0                             \n",
       "115                                             1102.0                             \n",
       "116                                             1036.0                             \n",
       "118                                              925.0                             \n",
       "128                                              701.0                             \n",
       "135                                             1105.0                             \n",
       "141                                              449.0                             \n",
       "150                                              497.0                             \n",
       "151                                              518.0                             \n",
       "153                                              620.0                             \n",
       "156                                              422.0                             \n",
       "\n",
       "     Monthly ticket public transport  \n",
       "9                                 91  \n",
       "21                                87  \n",
       "25                                97  \n",
       "28                                96  \n",
       "29                               105  \n",
       "31                               104  \n",
       "32                               111  \n",
       "36                                40  \n",
       "39                               108  \n",
       "47                                70  \n",
       "58                                94  \n",
       "67                                76  \n",
       "70                                57  \n",
       "72                                58  \n",
       "77                                35  \n",
       "79                                36  \n",
       "81                                30  \n",
       "82                                60  \n",
       "87                                46  \n",
       "88                                35  \n",
       "99                                37  \n",
       "103                               69  \n",
       "115                               45  \n",
       "116                               42  \n",
       "118                               31  \n",
       "128                               46  \n",
       "135                               13  \n",
       "141                               42  \n",
       "150                               13  \n",
       "151                               28  \n",
       "153                               13  \n",
       "156                               34  "
      ]
     },
     "execution_count": 58,
     "metadata": {},
     "output_type": "execute_result"
    }
   ],
   "source": [
    "test_features[three_features]"
   ]
  },
  {
   "cell_type": "code",
   "execution_count": 59,
   "metadata": {},
   "outputs": [],
   "source": [
    "fast_food_col_name = 'Combo meal in fast food restaurant (big mac meal or similar)'\n",
    "rent_col_name = 'Monthly rent for 85 m2 (900 sqft) furnished accommodation in expensive area'\n",
    "transit_col_name = 'Monthly ticket public transport'\n",
    "\n",
    "three_features = [fast_food_col_name, rent_col_name, transit_col_name]\n",
    "\n",
    "south_bend = pd.DataFrame({\n",
    "    fast_food_col_name: [7.49]\n",
    "    , rent_col_name: [2000]\n",
    "    , transit_col_name: [35]\n",
    "})"
   ]
  },
  {
   "cell_type": "code",
   "execution_count": 60,
   "metadata": {},
   "outputs": [
    {
     "data": {
      "text/html": [
       "<div>\n",
       "<style scoped>\n",
       "    .dataframe tbody tr th:only-of-type {\n",
       "        vertical-align: middle;\n",
       "    }\n",
       "\n",
       "    .dataframe tbody tr th {\n",
       "        vertical-align: top;\n",
       "    }\n",
       "\n",
       "    .dataframe thead th {\n",
       "        text-align: right;\n",
       "    }\n",
       "</style>\n",
       "<table border=\"1\" class=\"dataframe\">\n",
       "  <thead>\n",
       "    <tr style=\"text-align: right;\">\n",
       "      <th></th>\n",
       "      <th>Combo meal in fast food restaurant (big mac meal or similar)</th>\n",
       "      <th>Monthly rent for 85 m2 (900 sqft) furnished accommodation in expensive area</th>\n",
       "      <th>Monthly ticket public transport</th>\n",
       "    </tr>\n",
       "  </thead>\n",
       "  <tbody>\n",
       "    <tr>\n",
       "      <th>0</th>\n",
       "      <td>7.49</td>\n",
       "      <td>2000</td>\n",
       "      <td>35</td>\n",
       "    </tr>\n",
       "  </tbody>\n",
       "</table>\n",
       "</div>"
      ],
      "text/plain": [
       "   Combo meal in fast food restaurant (big mac meal or similar)  \\\n",
       "0                                               7.49              \n",
       "\n",
       "   Monthly rent for 85 m2 (900 sqft) furnished accommodation in expensive area  \\\n",
       "0                                               2000                             \n",
       "\n",
       "   Monthly ticket public transport  \n",
       "0                               35  "
      ]
     },
     "execution_count": 60,
     "metadata": {},
     "output_type": "execute_result"
    }
   ],
   "source": [
    "south_bend"
   ]
  },
  {
   "cell_type": "code",
   "execution_count": 61,
   "metadata": {},
   "outputs": [
    {
     "data": {
      "text/plain": [
       "array([[129.42809]], dtype=float32)"
      ]
     },
     "execution_count": 61,
     "metadata": {},
     "output_type": "execute_result"
    }
   ],
   "source": [
    "reloaded.predict(south_bend)"
   ]
  },
  {
   "cell_type": "code",
   "execution_count": 62,
   "metadata": {},
   "outputs": [
    {
     "data": {
      "text/html": [
       "<div>\n",
       "<style scoped>\n",
       "    .dataframe tbody tr th:only-of-type {\n",
       "        vertical-align: middle;\n",
       "    }\n",
       "\n",
       "    .dataframe tbody tr th {\n",
       "        vertical-align: top;\n",
       "    }\n",
       "\n",
       "    .dataframe thead th {\n",
       "        text-align: right;\n",
       "    }\n",
       "</style>\n",
       "<table border=\"1\" class=\"dataframe\">\n",
       "  <thead>\n",
       "    <tr style=\"text-align: right;\">\n",
       "      <th></th>\n",
       "      <th>City</th>\n",
       "      <th>Price_Index</th>\n",
       "      <th>Basic lunchtime menu (including a drink) in the business district</th>\n",
       "      <th>Combo meal in fast food restaurant (big mac meal or similar)</th>\n",
       "      <th>500 gr (1 lb.) of boneless chicken breast</th>\n",
       "      <th>1 liter (1 qt.) of whole fat milk</th>\n",
       "      <th>12 eggs, large</th>\n",
       "      <th>1 kg (2 lb.) of tomatoes</th>\n",
       "      <th>500 gr (16 oz.) of local cheese</th>\n",
       "      <th>1 kg (2 lb.) of apples</th>\n",
       "      <th>...</th>\n",
       "      <th>2 tickets to the movies</th>\n",
       "      <th>2 tickets to the theater (best available seats)</th>\n",
       "      <th>Dinner for two at an italian restaurant in the expat area including appetisers, main course, wine and dessert</th>\n",
       "      <th>1 cocktail drink in downtown club</th>\n",
       "      <th>Cappuccino in expat area of the city</th>\n",
       "      <th>1 beer in neighbourhood pub (500ml or 1pt.)</th>\n",
       "      <th>Ipad wi-fi 128gb</th>\n",
       "      <th>1 min. of prepaid mobile tariff (no discounts or plans)</th>\n",
       "      <th>1 month of gym membership in business district</th>\n",
       "      <th>1 package of marlboro cigarettes</th>\n",
       "    </tr>\n",
       "  </thead>\n",
       "  <tbody>\n",
       "    <tr>\n",
       "      <th>26</th>\n",
       "      <td>Chicago, Illinois, United States</td>\n",
       "      <td>183</td>\n",
       "      <td>18.0</td>\n",
       "      <td>9.0</td>\n",
       "      <td>4.76</td>\n",
       "      <td>1.02</td>\n",
       "      <td>3.57</td>\n",
       "      <td>4.09</td>\n",
       "      <td>7.0</td>\n",
       "      <td>3.57</td>\n",
       "      <td>...</td>\n",
       "      <td>26.0</td>\n",
       "      <td>253</td>\n",
       "      <td>101</td>\n",
       "      <td>15.0</td>\n",
       "      <td>4.91</td>\n",
       "      <td>6.0</td>\n",
       "      <td>501</td>\n",
       "      <td>0.52</td>\n",
       "      <td>76</td>\n",
       "      <td>14.0</td>\n",
       "    </tr>\n",
       "  </tbody>\n",
       "</table>\n",
       "<p>1 rows × 54 columns</p>\n",
       "</div>"
      ],
      "text/plain": [
       "                                City  Price_Index  \\\n",
       "26  Chicago, Illinois, United States          183   \n",
       "\n",
       "    Basic lunchtime menu (including a drink) in the business district  \\\n",
       "26                                               18.0                   \n",
       "\n",
       "    Combo meal in fast food restaurant (big mac meal or similar)  \\\n",
       "26                                                9.0              \n",
       "\n",
       "    500 gr (1 lb.) of boneless chicken breast  \\\n",
       "26                                       4.76   \n",
       "\n",
       "    1 liter (1 qt.) of whole fat milk  12 eggs, large  \\\n",
       "26                               1.02            3.57   \n",
       "\n",
       "    1 kg (2 lb.) of tomatoes  500 gr (16 oz.) of local cheese  \\\n",
       "26                      4.09                              7.0   \n",
       "\n",
       "    1 kg (2 lb.) of apples  ...  2 tickets to the movies  \\\n",
       "26                    3.57  ...                     26.0   \n",
       "\n",
       "    2 tickets to the theater (best available seats)  \\\n",
       "26                                              253   \n",
       "\n",
       "    Dinner for two at an italian restaurant in the expat area including appetisers, main course, wine and dessert  \\\n",
       "26                                                101                                                               \n",
       "\n",
       "    1 cocktail drink in downtown club  Cappuccino in expat area of the city  \\\n",
       "26                               15.0                                  4.91   \n",
       "\n",
       "    1 beer in neighbourhood pub (500ml or 1pt.)   Ipad wi-fi 128gb  \\\n",
       "26                                           6.0               501   \n",
       "\n",
       "    1 min. of prepaid mobile tariff (no discounts or plans)  \\\n",
       "26                                               0.52         \n",
       "\n",
       "    1 month of gym membership in business district  \\\n",
       "26                                              76   \n",
       "\n",
       "    1 package of marlboro cigarettes  \n",
       "26                              14.0  \n",
       "\n",
       "[1 rows x 54 columns]"
      ]
     },
     "execution_count": 62,
     "metadata": {},
     "output_type": "execute_result"
    }
   ],
   "source": [
    "filt1 = df['City'] == 'Chicago, Illinois, United States'\n",
    "df[filt1]"
   ]
  },
  {
   "cell_type": "markdown",
   "metadata": {},
   "source": [
    "# Comparing Chicago to South Bend"
   ]
  },
  {
   "cell_type": "code",
   "execution_count": 63,
   "metadata": {},
   "outputs": [],
   "source": [
    "chicago = pd.DataFrame({\n",
    "    fast_food_col_name: [8.69]\n",
    "    , rent_col_name: [3000]\n",
    "    , transit_col_name: [75]\n",
    "})"
   ]
  },
  {
   "cell_type": "code",
   "execution_count": 64,
   "metadata": {},
   "outputs": [
    {
     "data": {
      "text/plain": [
       "array([[182.97177]], dtype=float32)"
      ]
     },
     "execution_count": 64,
     "metadata": {},
     "output_type": "execute_result"
    }
   ],
   "source": [
    "from keras import backend as K\n",
    "\n",
    "def root_mean_squared_error(y_true, y_pred):\n",
    "        return K.sqrt(K.mean(K.square(y_pred - y_true))) \n",
    "\n",
    "reloaded = tf.keras.models.load_model('dnn_three_feature_model'\n",
    "    , custom_objects = {'root_mean_squared_error': root_mean_squared_error})\n",
    "\n",
    "reloaded.predict(chicago)"
   ]
  }
 ],
 "metadata": {
  "kernelspec": {
   "display_name": "price_indicies_tf",
   "language": "python",
   "name": "price_indicies_tf"
  },
  "language_info": {
   "codemirror_mode": {
    "name": "ipython",
    "version": 3
   },
   "file_extension": ".py",
   "mimetype": "text/x-python",
   "name": "python",
   "nbconvert_exporter": "python",
   "pygments_lexer": "ipython3",
   "version": "3.7.11"
  }
 },
 "nbformat": 4,
 "nbformat_minor": 2
}
