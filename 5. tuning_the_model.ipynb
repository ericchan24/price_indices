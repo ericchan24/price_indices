{
 "cells": [
  {
   "cell_type": "code",
   "execution_count": 25,
   "metadata": {
    "collapsed": true
   },
   "outputs": [],
   "source": [
    "import pandas as pd\n",
    "import numpy as np\n",
    "import matplotlib.pyplot as plt\n",
    "import seaborn as sns\n",
    "from sklearn.model_selection import train_test_split\n",
    "from sklearn.linear_model import LinearRegression\n",
    "from sklearn.preprocessing import PolynomialFeatures\n",
    "from sklearn.pipeline import make_pipeline\n",
    "plt.style.use('ggplot')\n",
    "from sklearn.model_selection import cross_val_score, cross_val_predict\n",
    "from sklearn.metrics import mean_squared_error, make_scorer\n",
    "from sklearn.linear_model import Ridge, Lasso\n",
    "import random\n",
    "\n",
    "%matplotlib inline"
   ]
  },
  {
   "cell_type": "code",
   "execution_count": 2,
   "metadata": {
    "collapsed": true
   },
   "outputs": [],
   "source": [
    "random.seed(42)"
   ]
  },
  {
   "cell_type": "code",
   "execution_count": 3,
   "metadata": {
    "collapsed": true
   },
   "outputs": [],
   "source": [
    "df = pd.read_pickle('df4.p')"
   ]
  },
  {
   "cell_type": "markdown",
   "metadata": {},
   "source": [
    "### 3 features plus region dummy variables model"
   ]
  },
  {
   "cell_type": "code",
   "execution_count": 92,
   "metadata": {
    "collapsed": true
   },
   "outputs": [],
   "source": [
    "X = df.loc[:,['Monthly rent for 85 m2 (900 Sqft) furnished accommodation in EXPENSIVE area',\\\n",
    "              'Monthly ticket public transport', \\\n",
    "              'Combo meal in fast food restaurant (Big Mac Meal or similar)', \\\n",
    "              'Asia', 'Central America', 'Eastern Europe', 'Middle East', 'North America', 'Oceania', \\\n",
    "              'South America', 'Western Europe'\\\n",
    "                ]].values\n",
    "y = df.loc[:,'Price_Index'].values.reshape(-1,1)"
   ]
  },
  {
   "cell_type": "code",
   "execution_count": 93,
   "metadata": {
    "collapsed": true
   },
   "outputs": [],
   "source": [
    "X_train, X_test, y_train, y_test = train_test_split(X, y, test_size=0.2, random_state = 42)"
   ]
  },
  {
   "cell_type": "code",
   "execution_count": 94,
   "metadata": {
    "collapsed": true
   },
   "outputs": [],
   "source": [
    "lr = LinearRegression()\n",
    "lr.fit(X_train, y_train);"
   ]
  },
  {
   "cell_type": "code",
   "execution_count": 95,
   "metadata": {
    "collapsed": true
   },
   "outputs": [],
   "source": [
    "def square_error(true,pred):\n",
    "    return (pred-true)**2\n",
    "\n",
    "def get_square_errors(label,pred):\n",
    "    sq_errors = []\n",
    "    for pred,true in zip(pred,label):\n",
    "        sqe = square_error(true,pred)\n",
    "        sq_errors.append(sqe)\n",
    "    return sq_errors\n",
    "\n",
    "def MSE(true,pred):\n",
    "    return np.mean(get_square_errors(true,pred))\n",
    "\n",
    "def SSE(true,pred):\n",
    "    return np.sum(get_square_errors(true,pred))\n",
    "\n",
    "def RMSE(true,pred):\n",
    "    return np.sqrt(MSE(true,pred))\n",
    "    \n",
    "def assess_model(model, feat, label, verbose=0):\n",
    "    y_pred = model.predict(feat)\n",
    "    sse = SSE(label,y_pred)\n",
    "    mse = MSE(label,y_pred)\n",
    "    rmse = np.sqrt(mse)\n",
    "    if verbose:\n",
    "        print(\"Root Mean Square Error: \", rmse)\n",
    "        print(\"Mean Square Error: \", mse)\n",
    "        print(\"Sum Square Error: \", sse)\n",
    "    return sse,mse,rmse"
   ]
  },
  {
   "cell_type": "code",
   "execution_count": 96,
   "metadata": {},
   "outputs": [
    {
     "name": "stdout",
     "output_type": "stream",
     "text": [
      "Root Mean Square Error:  8.33620630571\n",
      "Mean Square Error:  69.4923355714\n",
      "Sum Square Error:  17929.0225774\n",
      "\n",
      "Root Mean Square Error:  8.85971127888\n",
      "Mean Square Error:  78.4944839451\n",
      "Sum Square Error:  5102.14145643\n"
     ]
    },
    {
     "data": {
      "text/plain": [
       "(5102.1414564289616, 78.494483945060949, 8.8597112788770342)"
      ]
     },
     "execution_count": 96,
     "metadata": {},
     "output_type": "execute_result"
    }
   ],
   "source": [
    "assess_model(lr, X_train, y_train, verbose=1);\n",
    "print()\n",
    "assess_model(lr, X_test, y_test, verbose=1)"
   ]
  },
  {
   "cell_type": "markdown",
   "metadata": {},
   "source": [
    "### 3 features no dummy variables"
   ]
  },
  {
   "cell_type": "code",
   "execution_count": 98,
   "metadata": {
    "collapsed": true
   },
   "outputs": [],
   "source": [
    "X = df.loc[:,['Monthly rent for 85 m2 (900 Sqft) furnished accommodation in EXPENSIVE area',\\\n",
    "               'Monthly ticket public transport', \\\n",
    "                'Combo meal in fast food restaurant (Big Mac Meal or similar)'\n",
    "                ]].values\n",
    "y = df.loc[:,'Price_Index'].values.reshape(-1,1)"
   ]
  },
  {
   "cell_type": "code",
   "execution_count": 54,
   "metadata": {
    "collapsed": true
   },
   "outputs": [],
   "source": [
    "cols_to_keep = ['Price_Index','Monthly rent for 85 m2 (900 Sqft) furnished accommodation in EXPENSIVE area',\\\n",
    "               'Monthly ticket public transport', \\\n",
    "                'Combo meal in fast food restaurant (Big Mac Meal or similar)'\n",
    "                ]\n",
    "data = df[cols_to_keep]"
   ]
  },
  {
   "cell_type": "code",
   "execution_count": 99,
   "metadata": {
    "collapsed": true
   },
   "outputs": [],
   "source": [
    "X_train, X_test, y_train, y_test = train_test_split(X, y, test_size=0.2, random_state = 42)"
   ]
  },
  {
   "cell_type": "code",
   "execution_count": 100,
   "metadata": {
    "collapsed": true
   },
   "outputs": [],
   "source": [
    "lr = LinearRegression()\n",
    "lr.fit(X_train, y_train);"
   ]
  },
  {
   "cell_type": "code",
   "execution_count": 101,
   "metadata": {},
   "outputs": [
    {
     "name": "stdout",
     "output_type": "stream",
     "text": [
      "Root Mean Square Error:  9.25430722604\n",
      "Mean Square Error:  85.642202234\n",
      "Sum Square Error:  22095.6881764\n",
      "\n",
      "Root Mean Square Error:  9.99991468275\n",
      "Mean Square Error:  99.9982936624\n",
      "Sum Square Error:  6499.88908805\n"
     ]
    },
    {
     "data": {
      "text/plain": [
       "(6499.8890880545778, 99.998293662378117, 9.9999146827549534)"
      ]
     },
     "execution_count": 101,
     "metadata": {},
     "output_type": "execute_result"
    }
   ],
   "source": [
    "assess_model(lr, X_train, y_train, verbose=1);\n",
    "print()\n",
    "assess_model(lr, X_test, y_test, verbose=1)"
   ]
  },
  {
   "cell_type": "markdown",
   "metadata": {},
   "source": [
    "### Poly Transformed model"
   ]
  },
  {
   "cell_type": "code",
   "execution_count": 103,
   "metadata": {},
   "outputs": [],
   "source": [
    "poly = make_pipeline(PolynomialFeatures(2), LinearRegression())\n",
    "poly.fit(X_train, y_train)\n",
    "y_pred = model.predict(X_test)"
   ]
  },
  {
   "cell_type": "code",
   "execution_count": 104,
   "metadata": {},
   "outputs": [
    {
     "name": "stdout",
     "output_type": "stream",
     "text": [
      "Root Mean Square Error:  8.80403100023\n",
      "Mean Square Error:  77.5109618529\n",
      "Sum Square Error:  19997.8281581\n",
      "\n",
      "Root Mean Square Error:  9.90947509957\n",
      "Mean Square Error:  98.1976967489\n",
      "Sum Square Error:  6382.85028868\n"
     ]
    },
    {
     "data": {
      "text/plain": [
       "(6382.8502886798242, 98.197696748920379, 9.909475099566091)"
      ]
     },
     "execution_count": 104,
     "metadata": {},
     "output_type": "execute_result"
    }
   ],
   "source": [
    "assess_model(model, X_train, y_train, verbose=1);\n",
    "print()\n",
    "assess_model(model, X_test, y_test, verbose=1)"
   ]
  },
  {
   "cell_type": "markdown",
   "metadata": {},
   "source": [
    "### Will regularization produce a better model?"
   ]
  },
  {
   "cell_type": "code",
   "execution_count": 105,
   "metadata": {
    "collapsed": true
   },
   "outputs": [],
   "source": [
    "def ridge_model_cv_test(X, y, alphas = [1.0, 0.10, 0.01], folds = 5):\n",
    "    for alpha in alphas:\n",
    "        model = Ridge(alpha = alpha)\n",
    "        model.fit(X_train, y_train)\n",
    "        scores = cross_val_score(model, X_train, y_train, cv = folds, scoring=make_scorer(MSE))\n",
    "        print('ridge cv results:\\nalpha:', alpha, 'MSE:', scores, 'Avg MSE:', np.mean(scores))"
   ]
  },
  {
   "cell_type": "code",
   "execution_count": 106,
   "metadata": {
    "collapsed": true
   },
   "outputs": [],
   "source": [
    "def lasso_model_cv_test(X, y, alphas = [1.0, 0.10, 0.01], folds = 5):\n",
    "    for alpha in alphas:\n",
    "        model = Lasso(alpha = alpha)\n",
    "        model.fit(X_train, y_train)\n",
    "        scores = cross_val_score(model, X_train, y_train, cv = folds, scoring=make_scorer(MSE))\n",
    "        print('lasso cv results:\\nalpha:', alpha, 'MSE:', scores, 'Avg MSE:', np.mean(scores))"
   ]
  },
  {
   "cell_type": "code",
   "execution_count": 107,
   "metadata": {},
   "outputs": [
    {
     "name": "stdout",
     "output_type": "stream",
     "text": [
      "ridge cv results:\n",
      "alpha: 1.0 MSE: [ 116.85302124   94.76329788   71.24935819   81.69623858   75.95223039] Avg MSE: 88.1028292554\n",
      "ridge cv results:\n",
      "alpha: 0.1 MSE: [ 116.83960027   94.72404902   71.36482683   81.71014854   75.91365605] Avg MSE: 88.1104561414\n",
      "ridge cv results:\n",
      "alpha: 0.01 MSE: [ 116.83827229   94.72013423   71.37644792   81.71160637   75.90982901] Avg MSE: 88.1112579629\n"
     ]
    }
   ],
   "source": [
    "ridge_model_cv_test(X_train, y_train)"
   ]
  },
  {
   "cell_type": "code",
   "execution_count": 108,
   "metadata": {},
   "outputs": [
    {
     "name": "stdout",
     "output_type": "stream",
     "text": [
      "lasso cv results:\n",
      "alpha: 1.0 MSE: [ 117.40929632   96.40251562   68.07883656   81.85516742   77.9213576 ] Avg MSE: 88.3334347048\n",
      "lasso cv results:\n",
      "alpha: 0.1 MSE: [ 116.87628384   94.86804859   71.0033946    81.65783094   76.06548463] Avg MSE: 88.0942085209\n",
      "lasso cv results:\n",
      "alpha: 0.01 MSE: [ 116.84181434   94.73435128   71.33974162   81.70568659   75.92455872] Avg MSE: 88.1092305093\n"
     ]
    }
   ],
   "source": [
    "lasso_model_cv_test(X_train, y_train)"
   ]
  },
  {
   "cell_type": "code",
   "execution_count": null,
   "metadata": {
    "collapsed": true
   },
   "outputs": [],
   "source": []
  }
 ],
 "metadata": {
  "kernelspec": {
   "display_name": "Python [conda root]",
   "language": "python",
   "name": "conda-root-py"
  },
  "language_info": {
   "codemirror_mode": {
    "name": "ipython",
    "version": 3
   },
   "file_extension": ".py",
   "mimetype": "text/x-python",
   "name": "python",
   "nbconvert_exporter": "python",
   "pygments_lexer": "ipython3",
   "version": "3.6.2"
  }
 },
 "nbformat": 4,
 "nbformat_minor": 2
}
