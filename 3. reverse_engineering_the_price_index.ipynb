{
 "cells": [
  {
   "cell_type": "code",
   "execution_count": 2,
   "metadata": {
    "collapsed": true
   },
   "outputs": [],
   "source": [
    "import pickle\n",
    "import pandas as pd\n",
    "import numpy as np\n",
    "from sklearn.linear_model import LinearRegression\n",
    "import matplotlib.pyplot as plt\n",
    "from collections import Counter, OrderedDict, defaultdict\n",
    "import random\n",
    "plt.style.use('ggplot')\n",
    "%matplotlib inline"
   ]
  },
  {
   "cell_type": "code",
   "execution_count": 3,
   "metadata": {
    "collapsed": true
   },
   "outputs": [],
   "source": [
    "random.seed(42)"
   ]
  },
  {
   "cell_type": "code",
   "execution_count": 4,
   "metadata": {
    "collapsed": true
   },
   "outputs": [],
   "source": [
    "df = pd.read_pickle('cities_df.p')"
   ]
  },
  {
   "cell_type": "code",
   "execution_count": 5,
   "metadata": {},
   "outputs": [
    {
     "data": {
      "text/html": [
       "<div>\n",
       "<style>\n",
       "    .dataframe thead tr:only-child th {\n",
       "        text-align: right;\n",
       "    }\n",
       "\n",
       "    .dataframe thead th {\n",
       "        text-align: left;\n",
       "    }\n",
       "\n",
       "    .dataframe tbody tr th {\n",
       "        vertical-align: top;\n",
       "    }\n",
       "</style>\n",
       "<table border=\"1\" class=\"dataframe\">\n",
       "  <thead>\n",
       "    <tr style=\"text-align: right;\">\n",
       "      <th></th>\n",
       "      <th>Price_Index</th>\n",
       "      <th>0.5 l (16 oz) domestic beer in the supermarket</th>\n",
       "      <th>1 beer in neighbourhood pub (500ml or 1pt.)</th>\n",
       "      <th>1 bottle of red table wine, good quality</th>\n",
       "      <th>1 box of 32 tampons (Tampax, OB, ...)</th>\n",
       "      <th>1 box of antibiotics (12 doses)</th>\n",
       "      <th>1 cocktail drink in downtown club</th>\n",
       "      <th>1 kg (2 lb.) of apples</th>\n",
       "      <th>1 kg (2 lb.) of potatoes</th>\n",
       "      <th>1 kg (2 lb.) of tomatoes</th>\n",
       "      <th>...</th>\n",
       "      <th>Monthly rent for a 45 m2 (480 Sqft) furnished studio in NORMAL area</th>\n",
       "      <th>Monthly ticket public transport</th>\n",
       "      <th>Short visit to private Doctor (15 minutes)</th>\n",
       "      <th>Standard men's haircut in expat area of the city</th>\n",
       "      <th>Taxi trip on a business day, basic tariff, 8 km. (5 miles)</th>\n",
       "      <th>Tube of toothpaste</th>\n",
       "      <th>Utilities 1 month (heating, electricity, gas ...) for 1 person in 45 m2 (480 Sqft) studio</th>\n",
       "      <th>Utilities 1 month (heating, electricity, gas ...) for 2 people in 85m2 flat</th>\n",
       "      <th>Volkswagen Golf 1.4 TSI 150 CV (or equivalent), with no extras, new</th>\n",
       "      <th>iPad Air 2, 64GB</th>\n",
       "    </tr>\n",
       "    <tr>\n",
       "      <th>City</th>\n",
       "      <th></th>\n",
       "      <th></th>\n",
       "      <th></th>\n",
       "      <th></th>\n",
       "      <th></th>\n",
       "      <th></th>\n",
       "      <th></th>\n",
       "      <th></th>\n",
       "      <th></th>\n",
       "      <th></th>\n",
       "      <th></th>\n",
       "      <th></th>\n",
       "      <th></th>\n",
       "      <th></th>\n",
       "      <th></th>\n",
       "      <th></th>\n",
       "      <th></th>\n",
       "      <th></th>\n",
       "      <th></th>\n",
       "      <th></th>\n",
       "      <th></th>\n",
       "    </tr>\n",
       "  </thead>\n",
       "  <tbody>\n",
       "    <tr>\n",
       "      <th>Zurich, Switzerland</th>\n",
       "      <td>258</td>\n",
       "      <td>2.23</td>\n",
       "      <td>8.0</td>\n",
       "      <td>15.0</td>\n",
       "      <td>9.0</td>\n",
       "      <td>31.0</td>\n",
       "      <td>17.0</td>\n",
       "      <td>3.70</td>\n",
       "      <td>2.80</td>\n",
       "      <td>4.58</td>\n",
       "      <td>...</td>\n",
       "      <td>1668</td>\n",
       "      <td>104</td>\n",
       "      <td>145.0</td>\n",
       "      <td>47.0</td>\n",
       "      <td>38.0</td>\n",
       "      <td>4.17</td>\n",
       "      <td>92</td>\n",
       "      <td>154</td>\n",
       "      <td>28178</td>\n",
       "      <td>633.0</td>\n",
       "    </tr>\n",
       "    <tr>\n",
       "      <th>Geneva, Switzerland</th>\n",
       "      <td>257</td>\n",
       "      <td>2.09</td>\n",
       "      <td>7.0</td>\n",
       "      <td>20.0</td>\n",
       "      <td>8.0</td>\n",
       "      <td>32.0</td>\n",
       "      <td>20.0</td>\n",
       "      <td>4.28</td>\n",
       "      <td>3.13</td>\n",
       "      <td>4.13</td>\n",
       "      <td>...</td>\n",
       "      <td>1778</td>\n",
       "      <td>73</td>\n",
       "      <td>115.0</td>\n",
       "      <td>47.0</td>\n",
       "      <td>37.0</td>\n",
       "      <td>4.04</td>\n",
       "      <td>114</td>\n",
       "      <td>198</td>\n",
       "      <td>26713</td>\n",
       "      <td>544.0</td>\n",
       "    </tr>\n",
       "    <tr>\n",
       "      <th>Grand Cayman, Cayman Islands</th>\n",
       "      <td>255</td>\n",
       "      <td>4.11</td>\n",
       "      <td>6.0</td>\n",
       "      <td>28.0</td>\n",
       "      <td>10.0</td>\n",
       "      <td>25.0</td>\n",
       "      <td>13.0</td>\n",
       "      <td>8.00</td>\n",
       "      <td>4.26</td>\n",
       "      <td>5.84</td>\n",
       "      <td>...</td>\n",
       "      <td>1322</td>\n",
       "      <td>106</td>\n",
       "      <td>149.0</td>\n",
       "      <td>31.0</td>\n",
       "      <td>28.0</td>\n",
       "      <td>4.51</td>\n",
       "      <td>292</td>\n",
       "      <td>353</td>\n",
       "      <td>32956</td>\n",
       "      <td>759.0</td>\n",
       "    </tr>\n",
       "    <tr>\n",
       "      <th>New York City, United States</th>\n",
       "      <td>245</td>\n",
       "      <td>2.93</td>\n",
       "      <td>7.0</td>\n",
       "      <td>17.0</td>\n",
       "      <td>7.0</td>\n",
       "      <td>27.0</td>\n",
       "      <td>15.0</td>\n",
       "      <td>3.71</td>\n",
       "      <td>1.90</td>\n",
       "      <td>4.90</td>\n",
       "      <td>...</td>\n",
       "      <td>2012</td>\n",
       "      <td>119</td>\n",
       "      <td>171.0</td>\n",
       "      <td>26.0</td>\n",
       "      <td>16.0</td>\n",
       "      <td>2.30</td>\n",
       "      <td>126</td>\n",
       "      <td>202</td>\n",
       "      <td>22312</td>\n",
       "      <td>386.0</td>\n",
       "    </tr>\n",
       "    <tr>\n",
       "      <th>Reykjavik, Iceland</th>\n",
       "      <td>240</td>\n",
       "      <td>3.49</td>\n",
       "      <td>10.0</td>\n",
       "      <td>23.0</td>\n",
       "      <td>7.0</td>\n",
       "      <td>20.0</td>\n",
       "      <td>21.0</td>\n",
       "      <td>3.41</td>\n",
       "      <td>2.59</td>\n",
       "      <td>4.13</td>\n",
       "      <td>...</td>\n",
       "      <td>1303</td>\n",
       "      <td>107</td>\n",
       "      <td>42.0</td>\n",
       "      <td>48.0</td>\n",
       "      <td>31.0</td>\n",
       "      <td>3.78</td>\n",
       "      <td>71</td>\n",
       "      <td>116</td>\n",
       "      <td>32704</td>\n",
       "      <td>1004.0</td>\n",
       "    </tr>\n",
       "  </tbody>\n",
       "</table>\n",
       "<p>5 rows × 53 columns</p>\n",
       "</div>"
      ],
      "text/plain": [
       "                              Price_Index  \\\n",
       "City                                        \n",
       "Zurich, Switzerland                   258   \n",
       "Geneva, Switzerland                   257   \n",
       "Grand Cayman, Cayman Islands          255   \n",
       "New York City, United States          245   \n",
       "Reykjavik, Iceland                    240   \n",
       "\n",
       "                              0.5 l (16 oz) domestic beer in the supermarket  \\\n",
       "City                                                                           \n",
       "Zurich, Switzerland                                                     2.23   \n",
       "Geneva, Switzerland                                                     2.09   \n",
       "Grand Cayman, Cayman Islands                                            4.11   \n",
       "New York City, United States                                            2.93   \n",
       "Reykjavik, Iceland                                                      3.49   \n",
       "\n",
       "                              1 beer in neighbourhood pub (500ml or 1pt.)   \\\n",
       "City                                                                         \n",
       "Zurich, Switzerland                                                    8.0   \n",
       "Geneva, Switzerland                                                    7.0   \n",
       "Grand Cayman, Cayman Islands                                           6.0   \n",
       "New York City, United States                                           7.0   \n",
       "Reykjavik, Iceland                                                    10.0   \n",
       "\n",
       "                              1 bottle of red table wine, good quality  \\\n",
       "City                                                                     \n",
       "Zurich, Switzerland                                               15.0   \n",
       "Geneva, Switzerland                                               20.0   \n",
       "Grand Cayman, Cayman Islands                                      28.0   \n",
       "New York City, United States                                      17.0   \n",
       "Reykjavik, Iceland                                                23.0   \n",
       "\n",
       "                              1 box of 32 tampons (Tampax, OB, ...)  \\\n",
       "City                                                                  \n",
       "Zurich, Switzerland                                             9.0   \n",
       "Geneva, Switzerland                                             8.0   \n",
       "Grand Cayman, Cayman Islands                                   10.0   \n",
       "New York City, United States                                    7.0   \n",
       "Reykjavik, Iceland                                              7.0   \n",
       "\n",
       "                              1 box of antibiotics (12 doses)  \\\n",
       "City                                                            \n",
       "Zurich, Switzerland                                      31.0   \n",
       "Geneva, Switzerland                                      32.0   \n",
       "Grand Cayman, Cayman Islands                             25.0   \n",
       "New York City, United States                             27.0   \n",
       "Reykjavik, Iceland                                       20.0   \n",
       "\n",
       "                              1 cocktail drink in downtown club  \\\n",
       "City                                                              \n",
       "Zurich, Switzerland                                        17.0   \n",
       "Geneva, Switzerland                                        20.0   \n",
       "Grand Cayman, Cayman Islands                               13.0   \n",
       "New York City, United States                               15.0   \n",
       "Reykjavik, Iceland                                         21.0   \n",
       "\n",
       "                              1 kg (2 lb.) of apples  \\\n",
       "City                                                   \n",
       "Zurich, Switzerland                             3.70   \n",
       "Geneva, Switzerland                             4.28   \n",
       "Grand Cayman, Cayman Islands                    8.00   \n",
       "New York City, United States                    3.71   \n",
       "Reykjavik, Iceland                              3.41   \n",
       "\n",
       "                              1 kg (2 lb.) of potatoes  \\\n",
       "City                                                     \n",
       "Zurich, Switzerland                               2.80   \n",
       "Geneva, Switzerland                               3.13   \n",
       "Grand Cayman, Cayman Islands                      4.26   \n",
       "New York City, United States                      1.90   \n",
       "Reykjavik, Iceland                                2.59   \n",
       "\n",
       "                              1 kg (2 lb.) of tomatoes        ...         \\\n",
       "City                                                          ...          \n",
       "Zurich, Switzerland                               4.58        ...          \n",
       "Geneva, Switzerland                               4.13        ...          \n",
       "Grand Cayman, Cayman Islands                      5.84        ...          \n",
       "New York City, United States                      4.90        ...          \n",
       "Reykjavik, Iceland                                4.13        ...          \n",
       "\n",
       "                              Monthly rent for a 45 m2 (480 Sqft) furnished studio in NORMAL area  \\\n",
       "City                                                                                                \n",
       "Zurich, Switzerland                                                        1668                     \n",
       "Geneva, Switzerland                                                        1778                     \n",
       "Grand Cayman, Cayman Islands                                               1322                     \n",
       "New York City, United States                                               2012                     \n",
       "Reykjavik, Iceland                                                         1303                     \n",
       "\n",
       "                              Monthly ticket public transport  \\\n",
       "City                                                            \n",
       "Zurich, Switzerland                                       104   \n",
       "Geneva, Switzerland                                        73   \n",
       "Grand Cayman, Cayman Islands                              106   \n",
       "New York City, United States                              119   \n",
       "Reykjavik, Iceland                                        107   \n",
       "\n",
       "                              Short visit to private Doctor (15 minutes)  \\\n",
       "City                                                                       \n",
       "Zurich, Switzerland                                                145.0   \n",
       "Geneva, Switzerland                                                115.0   \n",
       "Grand Cayman, Cayman Islands                                       149.0   \n",
       "New York City, United States                                       171.0   \n",
       "Reykjavik, Iceland                                                  42.0   \n",
       "\n",
       "                              Standard men's haircut in expat area of the city  \\\n",
       "City                                                                             \n",
       "Zurich, Switzerland                                                       47.0   \n",
       "Geneva, Switzerland                                                       47.0   \n",
       "Grand Cayman, Cayman Islands                                              31.0   \n",
       "New York City, United States                                              26.0   \n",
       "Reykjavik, Iceland                                                        48.0   \n",
       "\n",
       "                              Taxi trip on a business day, basic tariff, 8 km. (5 miles)  \\\n",
       "City                                                                                       \n",
       "Zurich, Switzerland                                                        38.0            \n",
       "Geneva, Switzerland                                                        37.0            \n",
       "Grand Cayman, Cayman Islands                                               28.0            \n",
       "New York City, United States                                               16.0            \n",
       "Reykjavik, Iceland                                                         31.0            \n",
       "\n",
       "                              Tube of toothpaste  \\\n",
       "City                                               \n",
       "Zurich, Switzerland                         4.17   \n",
       "Geneva, Switzerland                         4.04   \n",
       "Grand Cayman, Cayman Islands                4.51   \n",
       "New York City, United States                2.30   \n",
       "Reykjavik, Iceland                          3.78   \n",
       "\n",
       "                              Utilities 1 month (heating, electricity, gas ...) for 1 person in 45 m2 (480 Sqft) studio  \\\n",
       "City                                                                                                                      \n",
       "Zurich, Switzerland                                                          92                                           \n",
       "Geneva, Switzerland                                                         114                                           \n",
       "Grand Cayman, Cayman Islands                                                292                                           \n",
       "New York City, United States                                                126                                           \n",
       "Reykjavik, Iceland                                                           71                                           \n",
       "\n",
       "                              Utilities 1 month (heating, electricity, gas ...) for 2 people in 85m2 flat  \\\n",
       "City                                                                                                        \n",
       "Zurich, Switzerland                                                         154                             \n",
       "Geneva, Switzerland                                                         198                             \n",
       "Grand Cayman, Cayman Islands                                                353                             \n",
       "New York City, United States                                                202                             \n",
       "Reykjavik, Iceland                                                          116                             \n",
       "\n",
       "                              Volkswagen Golf 1.4 TSI 150 CV (or equivalent), with no extras, new  \\\n",
       "City                                                                                                \n",
       "Zurich, Switzerland                                                       28178                     \n",
       "Geneva, Switzerland                                                       26713                     \n",
       "Grand Cayman, Cayman Islands                                              32956                     \n",
       "New York City, United States                                              22312                     \n",
       "Reykjavik, Iceland                                                        32704                     \n",
       "\n",
       "                              iPad Air 2, 64GB  \n",
       "City                                            \n",
       "Zurich, Switzerland                      633.0  \n",
       "Geneva, Switzerland                      544.0  \n",
       "Grand Cayman, Cayman Islands             759.0  \n",
       "New York City, United States             386.0  \n",
       "Reykjavik, Iceland                      1004.0  \n",
       "\n",
       "[5 rows x 53 columns]"
      ]
     },
     "execution_count": 5,
     "metadata": {},
     "output_type": "execute_result"
    }
   ],
   "source": [
    "df.head()"
   ]
  },
  {
   "cell_type": "markdown",
   "metadata": {},
   "source": [
    "### 6 features have null values. I will drop the features."
   ]
  },
  {
   "cell_type": "code",
   "execution_count": 6,
   "metadata": {},
   "outputs": [
    {
     "data": {
      "text/plain": [
       "['1 box of antibiotics (12 doses)',\n",
       " '1 min. of prepaid mobile tariff (no discounts or plans)',\n",
       " '40” flat screen TV',\n",
       " 'Short visit to private Doctor (15 minutes)',\n",
       " 'Taxi trip on a business day, basic tariff, 8 km. (5 miles)',\n",
       " 'iPad Air 2, 64GB']"
      ]
     },
     "execution_count": 6,
     "metadata": {},
     "output_type": "execute_result"
    }
   ],
   "source": [
    "df.columns[df.isnull().any()].tolist()"
   ]
  },
  {
   "cell_type": "code",
   "execution_count": 7,
   "metadata": {
    "collapsed": true
   },
   "outputs": [],
   "source": [
    "df1 = df.copy()"
   ]
  },
  {
   "cell_type": "code",
   "execution_count": 8,
   "metadata": {
    "collapsed": true
   },
   "outputs": [],
   "source": [
    "df1.dropna(axis = 1, inplace = True)"
   ]
  },
  {
   "cell_type": "code",
   "execution_count": 9,
   "metadata": {
    "collapsed": true
   },
   "outputs": [],
   "source": [
    "df2 = df.copy()"
   ]
  },
  {
   "cell_type": "code",
   "execution_count": 10,
   "metadata": {
    "collapsed": true
   },
   "outputs": [],
   "source": [
    "df2.dropna(axis=0, inplace=True)"
   ]
  },
  {
   "cell_type": "markdown",
   "metadata": {},
   "source": [
    "### Train/Test Split, 80/20 split"
   ]
  },
  {
   "cell_type": "code",
   "execution_count": 11,
   "metadata": {
    "collapsed": true
   },
   "outputs": [],
   "source": [
    "import math"
   ]
  },
  {
   "cell_type": "code",
   "execution_count": 12,
   "metadata": {
    "collapsed": true
   },
   "outputs": [],
   "source": [
    "train_len = math.floor(len(df1) * 0.8) # train length"
   ]
  },
  {
   "cell_type": "code",
   "execution_count": 13,
   "metadata": {
    "collapsed": true
   },
   "outputs": [],
   "source": [
    "test_len = len(df1) - train_len"
   ]
  },
  {
   "cell_type": "code",
   "execution_count": 14,
   "metadata": {},
   "outputs": [
    {
     "data": {
      "text/plain": [
       "True"
      ]
     },
     "execution_count": 14,
     "metadata": {},
     "output_type": "execute_result"
    }
   ],
   "source": [
    "train_len + test_len == len(df) # all rows are accounted for"
   ]
  },
  {
   "cell_type": "code",
   "execution_count": 15,
   "metadata": {
    "collapsed": true
   },
   "outputs": [],
   "source": [
    "train = df1.sample(n=train_len) # take a sample of length=train_len"
   ]
  },
  {
   "cell_type": "code",
   "execution_count": 16,
   "metadata": {
    "collapsed": true
   },
   "outputs": [],
   "source": [
    "cities = df1.index.values"
   ]
  },
  {
   "cell_type": "code",
   "execution_count": 17,
   "metadata": {
    "collapsed": true
   },
   "outputs": [],
   "source": [
    "mask = df1.index.isin(train.index)\n",
    "test = df1[~mask]                # keep the rows from df1 not in the training df"
   ]
  },
  {
   "cell_type": "code",
   "execution_count": 18,
   "metadata": {},
   "outputs": [
    {
     "data": {
      "text/plain": [
       "323"
      ]
     },
     "execution_count": 18,
     "metadata": {},
     "output_type": "execute_result"
    }
   ],
   "source": [
    "len(train) + len(test)"
   ]
  },
  {
   "cell_type": "code",
   "execution_count": 19,
   "metadata": {},
   "outputs": [
    {
     "data": {
      "text/plain": [
       "(323, 1)"
      ]
     },
     "execution_count": 19,
     "metadata": {},
     "output_type": "execute_result"
    }
   ],
   "source": [
    "df1.iloc[:,0].values.reshape(-1,1).shape"
   ]
  },
  {
   "cell_type": "code",
   "execution_count": 20,
   "metadata": {
    "collapsed": true
   },
   "outputs": [],
   "source": [
    "X_train, X_test = train.iloc[:,1:].values, test.iloc[:,1:].values          # set X_train and X_test to columns 1:        \n",
    "y_train, y_test = train.iloc[:,0].values.reshape(-1,1), test.iloc[:,0].values.reshape(-1,1)  # reshape y to get a column vector "
   ]
  },
  {
   "cell_type": "code",
   "execution_count": 21,
   "metadata": {},
   "outputs": [
    {
     "name": "stdout",
     "output_type": "stream",
     "text": [
      "X_train: (258, 46) X_test: (65, 46) y_train: (258, 1) y_test: (65, 1)\n"
     ]
    }
   ],
   "source": [
    "print('X_train:', X_train.shape, 'X_test:', X_test.shape, 'y_train:', y_train.shape, 'y_test:', y_test.shape)"
   ]
  },
  {
   "cell_type": "code",
   "execution_count": 22,
   "metadata": {
    "collapsed": true
   },
   "outputs": [],
   "source": [
    "lr = LinearRegression() # Initialize the model"
   ]
  },
  {
   "cell_type": "code",
   "execution_count": 23,
   "metadata": {
    "collapsed": true
   },
   "outputs": [],
   "source": [
    "lr.fit(X_train,y_train); # \"Fit\" the model, which means \"I want you to learn from my data!\""
   ]
  },
  {
   "cell_type": "code",
   "execution_count": 24,
   "metadata": {
    "collapsed": true
   },
   "outputs": [],
   "source": [
    "predicted_y = lr.predict(X_test) # Predict for new data!"
   ]
  },
  {
   "cell_type": "code",
   "execution_count": 25,
   "metadata": {},
   "outputs": [
    {
     "data": {
      "text/plain": [
       "0.99051910545747801"
      ]
     },
     "execution_count": 25,
     "metadata": {},
     "output_type": "execute_result"
    }
   ],
   "source": [
    "lr.score(X_test, y_test) # R^2"
   ]
  },
  {
   "cell_type": "code",
   "execution_count": 26,
   "metadata": {},
   "outputs": [
    {
     "data": {
      "text/plain": [
       "65"
      ]
     },
     "execution_count": 26,
     "metadata": {},
     "output_type": "execute_result"
    }
   ],
   "source": [
    "len(predicted_y)"
   ]
  },
  {
   "cell_type": "code",
   "execution_count": 27,
   "metadata": {},
   "outputs": [
    {
     "data": {
      "text/plain": [
       "65"
      ]
     },
     "execution_count": 27,
     "metadata": {},
     "output_type": "execute_result"
    }
   ],
   "source": [
    "len(y_test)"
   ]
  },
  {
   "cell_type": "code",
   "execution_count": 28,
   "metadata": {},
   "outputs": [
    {
     "data": {
      "image/png": "[encoded data removed]",
      "text/plain": [
       "<matplotlib.figure.Figure at 0x112524208>"
      ]
     },
     "metadata": {},
     "output_type": "display_data"
    }
   ],
   "source": [
    "fig = plt.figure(1, figsize = (14, 8))\n",
    "ax1 = fig.add_subplot(111)\n",
    "ax1.set_xlabel('Predicted Price Index', fontsize=15, weight='bold')\n",
    "ax1.set_ylabel('Actual Price Index', fontsize=15, weight='bold')\n",
    "ax1.set_title('Actual Price Index vs Predicted Price Index', fontsize=30, weight='bold')\n",
    "ax1.plot([50,275], [50, 275], color = 'b', linewidth = 3, label = 'Perfect Predictions')\n",
    "ax1.scatter(x = predicted_y , y = y_test, s=100)\n",
    "ax1.legend();"
   ]
  },
  {
   "cell_type": "code",
   "execution_count": 29,
   "metadata": {
    "collapsed": true
   },
   "outputs": [],
   "source": [
    "fig.savefig('all_features.png')   # save the figure to file\n",
    "plt.close(fig)"
   ]
  },
  {
   "cell_type": "code",
   "execution_count": 30,
   "metadata": {},
   "outputs": [
    {
     "data": {
      "text/plain": [
       "311"
      ]
     },
     "execution_count": 30,
     "metadata": {},
     "output_type": "execute_result"
    }
   ],
   "source": [
    "len(df2)"
   ]
  },
  {
   "cell_type": "code",
   "execution_count": 31,
   "metadata": {
    "collapsed": true
   },
   "outputs": [],
   "source": [
    "train1_len = math.floor(len(df1) * 0.8) # train length"
   ]
  },
  {
   "cell_type": "code",
   "execution_count": 32,
   "metadata": {
    "collapsed": true
   },
   "outputs": [],
   "source": [
    "test1_len = len(df2) - train_len"
   ]
  },
  {
   "cell_type": "code",
   "execution_count": 33,
   "metadata": {},
   "outputs": [
    {
     "data": {
      "text/plain": [
       "True"
      ]
     },
     "execution_count": 33,
     "metadata": {},
     "output_type": "execute_result"
    }
   ],
   "source": [
    "train1_len + test_len == len(df) # all rows are accounted for"
   ]
  },
  {
   "cell_type": "code",
   "execution_count": 34,
   "metadata": {
    "collapsed": true
   },
   "outputs": [],
   "source": [
    "train1 = df2.sample(n=train_len) # take a sample of length=train_len"
   ]
  },
  {
   "cell_type": "code",
   "execution_count": 35,
   "metadata": {
    "collapsed": true
   },
   "outputs": [],
   "source": [
    "cities1 = df2.index.values"
   ]
  },
  {
   "cell_type": "code",
   "execution_count": 36,
   "metadata": {
    "collapsed": true
   },
   "outputs": [],
   "source": [
    "mask1 = df2.index.isin(train1.index)\n",
    "test1 = df2.loc[~mask1]                # keep the rows from df1 not in the training df"
   ]
  },
  {
   "cell_type": "code",
   "execution_count": 37,
   "metadata": {},
   "outputs": [
    {
     "data": {
      "text/plain": [
       "311"
      ]
     },
     "execution_count": 37,
     "metadata": {},
     "output_type": "execute_result"
    }
   ],
   "source": [
    "len(train1) + len(test1)"
   ]
  },
  {
   "cell_type": "code",
   "execution_count": 38,
   "metadata": {},
   "outputs": [
    {
     "data": {
      "text/plain": [
       "(311, 1)"
      ]
     },
     "execution_count": 38,
     "metadata": {},
     "output_type": "execute_result"
    }
   ],
   "source": [
    "df2.iloc[:,0].values.reshape(-1,1).shape"
   ]
  },
  {
   "cell_type": "code",
   "execution_count": 39,
   "metadata": {
    "collapsed": true
   },
   "outputs": [],
   "source": [
    "X_train1, X_test1 = train1.iloc[:,1:].values, test1.iloc[:,1:].values          # set X_train and X_test to columns 1:        \n",
    "y_train1, y_test1 = train1.iloc[:,0].values.reshape(-1,1), test1.iloc[:,0].values.reshape(-1,1)  # reshape y to get a column vector "
   ]
  },
  {
   "cell_type": "code",
   "execution_count": 40,
   "metadata": {},
   "outputs": [
    {
     "name": "stdout",
     "output_type": "stream",
     "text": [
      "X_train: (258, 52) X_test: (53, 52) y_train: (258, 1) y_test: (53, 1)\n"
     ]
    }
   ],
   "source": [
    "print('X_train:', X_train1.shape, 'X_test:', X_test1.shape, 'y_train:', y_train1.shape, 'y_test:', y_test1.shape)"
   ]
  },
  {
   "cell_type": "code",
   "execution_count": 41,
   "metadata": {
    "collapsed": true
   },
   "outputs": [],
   "source": [
    "lr1 = LinearRegression() # Initialize the model"
   ]
  },
  {
   "cell_type": "code",
   "execution_count": 42,
   "metadata": {
    "collapsed": true
   },
   "outputs": [],
   "source": [
    "lr1.fit(X_train1,y_train1); # \"Fit\" the model, which means \"I want you to learn from my data!\""
   ]
  },
  {
   "cell_type": "code",
   "execution_count": 43,
   "metadata": {
    "collapsed": true
   },
   "outputs": [],
   "source": [
    "predicted_y1 = lr1.predict(X_test1) # Predict for new data!"
   ]
  },
  {
   "cell_type": "code",
   "execution_count": 44,
   "metadata": {},
   "outputs": [
    {
     "data": {
      "text/plain": [
       "0.99979135129004293"
      ]
     },
     "execution_count": 44,
     "metadata": {},
     "output_type": "execute_result"
    }
   ],
   "source": [
    "lr1.score(X_test1, y_test1) # R^2"
   ]
  },
  {
   "cell_type": "code",
   "execution_count": 45,
   "metadata": {},
   "outputs": [
    {
     "data": {
      "text/plain": [
       "53"
      ]
     },
     "execution_count": 45,
     "metadata": {},
     "output_type": "execute_result"
    }
   ],
   "source": [
    "len(predicted_y1)"
   ]
  },
  {
   "cell_type": "code",
   "execution_count": 46,
   "metadata": {},
   "outputs": [
    {
     "data": {
      "text/plain": [
       "53"
      ]
     },
     "execution_count": 46,
     "metadata": {},
     "output_type": "execute_result"
    }
   ],
   "source": [
    "len(y_test1)"
   ]
  },
  {
   "cell_type": "code",
   "execution_count": 47,
   "metadata": {},
   "outputs": [
    {
     "data": {
      "image/png": "[encoded data removed]",
      "text/plain": [
       "<matplotlib.figure.Figure at 0x115094128>"
      ]
     },
     "metadata": {},
     "output_type": "display_data"
    }
   ],
   "source": [
    "fig = plt.figure(1, figsize = (14, 8))\n",
    "ax1 = fig.add_subplot(111)\n",
    "ax1.set_xlabel('Actual Price Index', fontsize=15, weight='bold')\n",
    "ax1.set_ylabel('Predicted Price Index', fontsize=15, weight='bold')\n",
    "ax1.set_title('Predicted vs Actual Price Index', fontsize=30, weight='bold')\n",
    "ax1.plot([50,275], [50, 275], color = 'b', linewidth = 3, label = 'Perfect Predictions')\n",
    "ax1.scatter(x = y_test1 , y = predicted_y1, s=100)\n",
    "ax1.legend();"
   ]
  },
  {
   "cell_type": "code",
   "execution_count": 48,
   "metadata": {
    "collapsed": true
   },
   "outputs": [],
   "source": [
    "fig.savefig('all_features.png')"
   ]
  },
  {
   "cell_type": "code",
   "execution_count": 49,
   "metadata": {
    "collapsed": true
   },
   "outputs": [],
   "source": [
    "cities_d = Counter()\n",
    "for city in df2.index.values:\n",
    "    city = city.split(', ')\n",
    "    cities_d[city[-1]] +=1"
   ]
  },
  {
   "cell_type": "markdown",
   "metadata": {},
   "source": [
    "### explore cities by country"
   ]
  },
  {
   "cell_type": "code",
   "execution_count": 50,
   "metadata": {
    "collapsed": true
   },
   "outputs": [],
   "source": [
    "for k, v in cities_d.items():\n",
    "    print"
   ]
  },
  {
   "cell_type": "code",
   "execution_count": 51,
   "metadata": {
    "collapsed": true
   },
   "outputs": [],
   "source": [
    "ordered = OrderedDict(sorted(cities_d.items(), key=lambda t: t[1], reverse = True))"
   ]
  },
  {
   "cell_type": "code",
   "execution_count": 52,
   "metadata": {},
   "outputs": [
    {
     "data": {
      "text/plain": [
       "311"
      ]
     },
     "execution_count": 52,
     "metadata": {},
     "output_type": "execute_result"
    }
   ],
   "source": [
    "total = 0\n",
    "for city, num in ordered.items():\n",
    "    total += num\n",
    "total"
   ]
  },
  {
   "cell_type": "code",
   "execution_count": 56,
   "metadata": {},
   "outputs": [
    {
     "name": "stdout",
     "output_type": "stream",
     "text": [
      "United States 70\n",
      "Brazil 22\n",
      "United Kingdom 13\n",
      "Canada 13\n",
      "India 13\n",
      "Italy 7\n",
      "Australia 6\n",
      "Germany 6\n",
      "Mexico 6\n",
      "Switzerland 5\n",
      "Spain 5\n",
      "Poland 5\n",
      "Ireland 4\n",
      "Russia 4\n",
      "South Africa 4\n",
      "Turkey 4\n",
      "Romania 4\n",
      "France 3\n",
      "New Zealand 3\n",
      "Sweden 3\n",
      "Netherlands 3\n",
      "Argentina 3\n",
      "Ecuador 3\n",
      "Colombia 3\n",
      "Ukraine 3\n",
      "Israel 2\n",
      "United Arab Emirates 2\n",
      "Belgium 2\n",
      "Saudi Arabia 2\n",
      "China 2\n",
      "Portugal 2\n",
      "Greece 2\n",
      "Cyprus 2\n",
      "Thailand 2\n",
      "Croatia 2\n",
      "Czech Republic 2\n",
      "Malaysia 2\n",
      "Serbia 2\n",
      "Vietnam 2\n",
      "Cayman Islands 1\n",
      "Iceland 1\n",
      "Norway 1\n",
      "Hong Kong 1\n",
      "Denmark 1\n",
      "Singapore 1\n",
      "Japan 1\n",
      "Qatar 1\n",
      "Luxembourg 1\n",
      "Finland 1\n",
      "Puerto Rico 1\n",
      "Austria 1\n",
      "South Korea 1\n",
      "Lebanon 1\n",
      "Uruguay 1\n",
      "Kuwait 1\n",
      "Zimbabwe 1\n",
      "Bahrain 1\n",
      "Panama 1\n",
      "Trinidad and Tobago 1\n",
      "Jordan 1\n",
      "Slovenia 1\n",
      "Oman 1\n",
      "Dominican Republic 1\n",
      "Mauritius 1\n",
      "Costa Rica 1\n",
      "Chile 1\n",
      "Fiji 1\n",
      "Taiwan 1\n",
      "Kenya 1\n",
      "Latvia 1\n",
      "Jamaica 1\n",
      "Estonia 1\n",
      "Ethiopia 1\n",
      "Guatemala 1\n",
      "Lithuania 1\n",
      "Slovakia 1\n",
      "Uganda 1\n",
      "Namibia 1\n",
      "El Salvador 1\n",
      "Hungary 1\n",
      "Tanzania 1\n",
      "Peru 1\n",
      "Honduras 1\n",
      "Montenegro 1\n",
      "Indonesia 1\n",
      "Paraguay 1\n",
      "Morocco 1\n",
      "Bolivia 1\n",
      "Philippines 1\n",
      "Botswana 1\n",
      "Bulgaria 1\n",
      "Algeria 1\n",
      "Bosnia and Herzegovina 1\n",
      "Bangladesh 1\n",
      "Nepal 1\n",
      "Albania 1\n",
      "Macedonia 1\n",
      "Kosovo 1\n",
      "Kazakhstan 1\n",
      "Armenia 1\n",
      "Nicaragua 1\n",
      "Sri Lanka 1\n",
      "Moldova 1\n",
      "Georgia 1\n",
      "Azerbaijan 1\n",
      "Tunisia 1\n",
      "Egypt 1\n"
     ]
    }
   ],
   "source": [
    "for k,v in ordered.items():\n",
    "    print(k, v)"
   ]
  },
  {
   "cell_type": "code",
   "execution_count": 57,
   "metadata": {
    "collapsed": true
   },
   "outputs": [],
   "source": [
    "lst = []\n",
    "for city in df2.index.values:\n",
    "    lst.append(city)"
   ]
  },
  {
   "cell_type": "code",
   "execution_count": 58,
   "metadata": {
    "collapsed": true
   },
   "outputs": [],
   "source": [
    "lst.sort()"
   ]
  },
  {
   "cell_type": "code",
   "execution_count": 61,
   "metadata": {},
   "outputs": [
    {
     "name": "stdout",
     "output_type": "stream",
     "text": [
      "['Abu Dhabi, United Arab Emirates', 'Addis Ababa, Ethiopia', 'Adelaide, Australia', 'Ahmedabad, India', 'Albuquerque, New Mexico, United States']\n"
     ]
    }
   ],
   "source": [
    "print(lst[:5])"
   ]
  },
  {
   "cell_type": "code",
   "execution_count": null,
   "metadata": {
    "collapsed": true
   },
   "outputs": [],
   "source": []
  }
 ],
 "metadata": {
  "kernelspec": {
   "display_name": "Python [conda root]",
   "language": "python",
   "name": "conda-root-py"
  },
  "language_info": {
   "codemirror_mode": {
    "name": "ipython",
    "version": 3
   },
   "file_extension": ".py",
   "mimetype": "text/x-python",
   "name": "python",
   "nbconvert_exporter": "python",
   "pygments_lexer": "ipython3",
   "version": "3.6.2"
  }
 },
 "nbformat": 4,
 "nbformat_minor": 2
}
